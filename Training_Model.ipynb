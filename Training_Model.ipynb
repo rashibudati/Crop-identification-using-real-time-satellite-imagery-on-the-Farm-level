{
  "nbformat": 4,
  "nbformat_minor": 0,
  "metadata": {
    "colab": {
      "name": "Training_Model.ipynb",
      "provenance": [],
      "collapsed_sections": []
    },
    "kernelspec": {
      "name": "python3",
      "display_name": "Python 3"
    }
  },
  "cells": [
    {
      "cell_type": "code",
      "metadata": {
        "id": "0CfbiNATNdWN",
        "colab_type": "code",
        "colab": {}
      },
      "source": [
        "import pandas as pd\n",
        "import numpy as np\n",
        "import missingno as msn\n",
        "import matplotlib.pyplot as plt\n",
        "df_fea = pd.read_csv('43REL_train_feature data.csv')\n",
        "df_lab = pd.read_csv('43REL_train_labels.csv')"
      ],
      "execution_count": 0,
      "outputs": []
    },
    {
      "cell_type": "code",
      "metadata": {
        "id": "a_PDk7SQPVBC",
        "colab_type": "code",
        "outputId": "28bc93e1-62c0-40c5-e5d5-ad4407da9219",
        "colab": {
          "base_uri": "https://localhost:8080/",
          "height": 277
        }
      },
      "source": [
        "print(df_fea.head())\n",
        "print(df_lab.head())\n",
        "df_fea.rename(columns={\"lon\": \"lng\"}, inplace = True)\n",
        "  "
      ],
      "execution_count": 28,
      "outputs": [
        {
          "output_type": "stream",
          "text": [
            "         lon        lat  ...  b8_2019-04-30  ndvi_2019-04-30\n",
            "0  76.042755  27.906586  ...           -999           -999.0\n",
            "1  76.043080  27.911612  ...           -999           -999.0\n",
            "2  76.039370  27.916418  ...           -999           -999.0\n",
            "3  76.039734  27.916988  ...           -999           -999.0\n",
            "4  76.036150  27.920853  ...           -999           -999.0\n",
            "\n",
            "[5 rows x 326 columns]\n",
            "   Unnamed: 0  index season  ...        lat        lng   Name\n",
            "0           1   1863   Rabi  ...  27.906586  76.042755  43REL\n",
            "1           2   1864   Rabi  ...  27.911612  76.043080  43REL\n",
            "2           3   1865   Rabi  ...  27.916418  76.039370  43REL\n",
            "3           4   1866   Rabi  ...  27.916988  76.039734  43REL\n",
            "4           5   1867   Rabi  ...  27.920853  76.036150  43REL\n",
            "\n",
            "[5 rows x 17 columns]\n"
          ],
          "name": "stdout"
        }
      ]
    },
    {
      "cell_type": "code",
      "metadata": {
        "id": "OXY9wM14QErq",
        "colab_type": "code",
        "outputId": "60dda500-9263-4ede-d991-d93750459265",
        "colab": {
          "base_uri": "https://localhost:8080/",
          "height": 50
        }
      },
      "source": [
        "print(df_fea.shape)\n",
        "print(df_lab.shape)"
      ],
      "execution_count": 29,
      "outputs": [
        {
          "output_type": "stream",
          "text": [
            "(1347, 326)\n",
            "(1347, 17)\n"
          ],
          "name": "stdout"
        }
      ]
    },
    {
      "cell_type": "code",
      "metadata": {
        "id": "9_WL-pXkQU9K",
        "colab_type": "code",
        "outputId": "fcb853fd-35b9-41a9-a757-a486454c43fc",
        "colab": {
          "base_uri": "https://localhost:8080/",
          "height": 98
        }
      },
      "source": [
        "#Removing -999 values \n",
        "df_fea.replace({-999.0: np.nan}, inplace = True)\n",
        "df_fea.dropna(inplace = True)\n",
        "#After dropping all the NaN values\n",
        "df_fea.info()"
      ],
      "execution_count": 31,
      "outputs": [
        {
          "output_type": "stream",
          "text": [
            "<class 'pandas.core.frame.DataFrame'>\n",
            "Int64Index: 546 entries, 159 to 1341\n",
            "Columns: 326 entries, lng to ndvi_2019-04-30\n",
            "dtypes: float64(326)\n",
            "memory usage: 1.4 MB\n"
          ],
          "name": "stdout"
        }
      ]
    },
    {
      "cell_type": "code",
      "metadata": {
        "id": "O73ciwvMQFH7",
        "colab_type": "code",
        "colab": {
          "base_uri": "https://localhost:8080/",
          "height": 82
        },
        "outputId": "44d96cb9-be94-4e9a-ea4e-585310dd7f0a"
      },
      "source": [
        "df_fea.to_csv('/content/new_file.csv', index = None)\n",
        "df_lab.columns"
      ],
      "execution_count": 32,
      "outputs": [
        {
          "output_type": "execute_result",
          "data": {
            "text/plain": [
              "Index(['Unnamed: 0', 'index', 'season', 'year', 'state', 'distrct', 'lvl_4_n',\n",
              "       'level_4', 'cc_plt_', 'cc_r_nt', 'dt_f_sw', 'dt_f_ct', 'dt_f_hr',\n",
              "       'crop_nm', 'lat', 'lng', 'Name'],\n",
              "      dtype='object')"
            ]
          },
          "metadata": {
            "tags": []
          },
          "execution_count": 32
        }
      ]
    },
    {
      "cell_type": "code",
      "metadata": {
        "id": "1syJFCLIsMGn",
        "colab_type": "code",
        "colab": {}
      },
      "source": [
        "df_merge_col = pd.merge(df_fea, df_lab, on=['lng','lat'], how = 'inner')\n"
      ],
      "execution_count": 0,
      "outputs": []
    },
    {
      "cell_type": "code",
      "metadata": {
        "colab_type": "code",
        "id": "etJKhzlOvDcc",
        "outputId": "0f45d882-f988-4eb3-f558-0cb411352593",
        "colab": {
          "base_uri": "https://localhost:8080/",
          "height": 33
        }
      },
      "source": [
        "df_merge_col.head()\n",
        "df_merge_col.shape"
      ],
      "execution_count": 34,
      "outputs": [
        {
          "output_type": "execute_result",
          "data": {
            "text/plain": [
              "(576, 341)"
            ]
          },
          "metadata": {
            "tags": []
          },
          "execution_count": 34
        }
      ]
    },
    {
      "cell_type": "code",
      "metadata": {
        "id": "OzvrlrZNu9aQ",
        "colab_type": "code",
        "colab": {}
      },
      "source": [
        "df_merge_col.to_csv('/content/new_train_file.csv', index = None)"
      ],
      "execution_count": 0,
      "outputs": []
    },
    {
      "cell_type": "code",
      "metadata": {
        "id": "8VNX6tZIwbR5",
        "colab_type": "code",
        "outputId": "bb5b46c0-80fe-44e7-e1dd-e2b182996ac6",
        "colab": {
          "base_uri": "https://localhost:8080/",
          "height": 638
        }
      },
      "source": [
        "df_merge_col"
      ],
      "execution_count": 9,
      "outputs": [
        {
          "output_type": "execute_result",
          "data": {
            "text/html": [
              "<div>\n",
              "<style scoped>\n",
              "    .dataframe tbody tr th:only-of-type {\n",
              "        vertical-align: middle;\n",
              "    }\n",
              "\n",
              "    .dataframe tbody tr th {\n",
              "        vertical-align: top;\n",
              "    }\n",
              "\n",
              "    .dataframe thead th {\n",
              "        text-align: right;\n",
              "    }\n",
              "</style>\n",
              "<table border=\"1\" class=\"dataframe\">\n",
              "  <thead>\n",
              "    <tr style=\"text-align: right;\">\n",
              "      <th></th>\n",
              "      <th>lng</th>\n",
              "      <th>lat</th>\n",
              "      <th>b4_2018-08-01</th>\n",
              "      <th>b8_2018-08-01</th>\n",
              "      <th>ndvi_2018-08-01</th>\n",
              "      <th>b4_2018-08-03</th>\n",
              "      <th>b8_2018-08-03</th>\n",
              "      <th>ndvi_2018-08-03</th>\n",
              "      <th>b4_2018-08-06</th>\n",
              "      <th>b8_2018-08-06</th>\n",
              "      <th>ndvi_2018-08-06</th>\n",
              "      <th>b4_2018-08-08</th>\n",
              "      <th>b8_2018-08-08</th>\n",
              "      <th>ndvi_2018-08-08</th>\n",
              "      <th>b4_2018-08-11</th>\n",
              "      <th>b8_2018-08-11</th>\n",
              "      <th>ndvi_2018-08-11</th>\n",
              "      <th>b4_2018-08-13</th>\n",
              "      <th>b8_2018-08-13</th>\n",
              "      <th>ndvi_2018-08-13</th>\n",
              "      <th>b4_2018-08-16</th>\n",
              "      <th>b8_2018-08-16</th>\n",
              "      <th>ndvi_2018-08-16</th>\n",
              "      <th>b4_2018-08-18</th>\n",
              "      <th>b8_2018-08-18</th>\n",
              "      <th>ndvi_2018-08-18</th>\n",
              "      <th>b4_2018-08-21</th>\n",
              "      <th>b8_2018-08-21</th>\n",
              "      <th>ndvi_2018-08-21</th>\n",
              "      <th>b4_2018-08-23</th>\n",
              "      <th>b8_2018-08-23</th>\n",
              "      <th>ndvi_2018-08-23</th>\n",
              "      <th>b4_2018-08-26</th>\n",
              "      <th>b8_2018-08-26</th>\n",
              "      <th>ndvi_2018-08-26</th>\n",
              "      <th>b4_2018-08-28</th>\n",
              "      <th>b8_2018-08-28</th>\n",
              "      <th>ndvi_2018-08-28</th>\n",
              "      <th>b4_2018-08-31</th>\n",
              "      <th>b8_2018-08-31</th>\n",
              "      <th>...</th>\n",
              "      <th>ndvi_2019-04-10</th>\n",
              "      <th>b4_2019-04-13</th>\n",
              "      <th>b8_2019-04-13</th>\n",
              "      <th>ndvi_2019-04-13</th>\n",
              "      <th>b4_2019-04-15</th>\n",
              "      <th>b8_2019-04-15</th>\n",
              "      <th>ndvi_2019-04-15</th>\n",
              "      <th>b4_2019-04-18</th>\n",
              "      <th>b8_2019-04-18</th>\n",
              "      <th>ndvi_2019-04-18</th>\n",
              "      <th>b4_2019-04-20</th>\n",
              "      <th>b8_2019-04-20</th>\n",
              "      <th>ndvi_2019-04-20</th>\n",
              "      <th>b4_2019-04-23</th>\n",
              "      <th>b8_2019-04-23</th>\n",
              "      <th>ndvi_2019-04-23</th>\n",
              "      <th>b4_2019-04-25</th>\n",
              "      <th>b8_2019-04-25</th>\n",
              "      <th>ndvi_2019-04-25</th>\n",
              "      <th>b4_2019-04-28</th>\n",
              "      <th>b8_2019-04-28</th>\n",
              "      <th>ndvi_2019-04-28</th>\n",
              "      <th>b4_2019-04-30</th>\n",
              "      <th>b8_2019-04-30</th>\n",
              "      <th>ndvi_2019-04-30</th>\n",
              "      <th>Unnamed: 0</th>\n",
              "      <th>index</th>\n",
              "      <th>season</th>\n",
              "      <th>year</th>\n",
              "      <th>state</th>\n",
              "      <th>distrct</th>\n",
              "      <th>lvl_4_n</th>\n",
              "      <th>level_4</th>\n",
              "      <th>cc_plt_</th>\n",
              "      <th>cc_r_nt</th>\n",
              "      <th>dt_f_sw</th>\n",
              "      <th>dt_f_ct</th>\n",
              "      <th>dt_f_hr</th>\n",
              "      <th>crop_nm</th>\n",
              "      <th>Name</th>\n",
              "    </tr>\n",
              "  </thead>\n",
              "  <tbody>\n",
              "    <tr>\n",
              "      <th>0</th>\n",
              "      <td>75.511250</td>\n",
              "      <td>27.412203</td>\n",
              "      <td>1051.0</td>\n",
              "      <td>3761.0</td>\n",
              "      <td>0.563175</td>\n",
              "      <td>1865.0</td>\n",
              "      <td>3791.0</td>\n",
              "      <td>0.340523</td>\n",
              "      <td>6497.0</td>\n",
              "      <td>7150.0</td>\n",
              "      <td>0.047849</td>\n",
              "      <td>6007.0</td>\n",
              "      <td>6407.0</td>\n",
              "      <td>0.032222</td>\n",
              "      <td>5093.0</td>\n",
              "      <td>5796.0</td>\n",
              "      <td>0.064561</td>\n",
              "      <td>8105.0</td>\n",
              "      <td>8150.0</td>\n",
              "      <td>0.002768</td>\n",
              "      <td>4641.0</td>\n",
              "      <td>5523.0</td>\n",
              "      <td>0.086777</td>\n",
              "      <td>875.0</td>\n",
              "      <td>1806.0</td>\n",
              "      <td>0.347258</td>\n",
              "      <td>1632.0</td>\n",
              "      <td>2573.0</td>\n",
              "      <td>0.223781</td>\n",
              "      <td>6564.0</td>\n",
              "      <td>6744.0</td>\n",
              "      <td>0.013526</td>\n",
              "      <td>2793.0</td>\n",
              "      <td>3665.0</td>\n",
              "      <td>0.135026</td>\n",
              "      <td>3620.0</td>\n",
              "      <td>4239.0</td>\n",
              "      <td>0.078763</td>\n",
              "      <td>2246.0</td>\n",
              "      <td>3355.0</td>\n",
              "      <td>...</td>\n",
              "      <td>0.113228</td>\n",
              "      <td>1858.0</td>\n",
              "      <td>2279.0</td>\n",
              "      <td>0.101765</td>\n",
              "      <td>2682.0</td>\n",
              "      <td>3021.0</td>\n",
              "      <td>0.059442</td>\n",
              "      <td>4968.0</td>\n",
              "      <td>5380.0</td>\n",
              "      <td>0.039814</td>\n",
              "      <td>2113.0</td>\n",
              "      <td>2724.0</td>\n",
              "      <td>0.126318</td>\n",
              "      <td>1855.0</td>\n",
              "      <td>2399.0</td>\n",
              "      <td>0.127880</td>\n",
              "      <td>2128.0</td>\n",
              "      <td>2662.0</td>\n",
              "      <td>0.111482</td>\n",
              "      <td>1923.0</td>\n",
              "      <td>2424.0</td>\n",
              "      <td>0.115252</td>\n",
              "      <td>2166.0</td>\n",
              "      <td>2752.0</td>\n",
              "      <td>0.119154</td>\n",
              "      <td>160</td>\n",
              "      <td>2652</td>\n",
              "      <td>Rabi</td>\n",
              "      <td>2018</td>\n",
              "      <td>Rajasthan</td>\n",
              "      <td>Sikar</td>\n",
              "      <td>Khandela</td>\n",
              "      <td>Tehsil</td>\n",
              "      <td>0.30</td>\n",
              "      <td>Hectare</td>\n",
              "      <td>2018-11-18</td>\n",
              "      <td>2019-04-03</td>\n",
              "      <td>2019-04-30</td>\n",
              "      <td>Wheat</td>\n",
              "      <td>43REL</td>\n",
              "    </tr>\n",
              "    <tr>\n",
              "      <th>1</th>\n",
              "      <td>75.511250</td>\n",
              "      <td>27.412203</td>\n",
              "      <td>1051.0</td>\n",
              "      <td>3761.0</td>\n",
              "      <td>0.563175</td>\n",
              "      <td>1865.0</td>\n",
              "      <td>3791.0</td>\n",
              "      <td>0.340523</td>\n",
              "      <td>6497.0</td>\n",
              "      <td>7150.0</td>\n",
              "      <td>0.047849</td>\n",
              "      <td>6007.0</td>\n",
              "      <td>6407.0</td>\n",
              "      <td>0.032222</td>\n",
              "      <td>5093.0</td>\n",
              "      <td>5796.0</td>\n",
              "      <td>0.064561</td>\n",
              "      <td>8105.0</td>\n",
              "      <td>8150.0</td>\n",
              "      <td>0.002768</td>\n",
              "      <td>4641.0</td>\n",
              "      <td>5523.0</td>\n",
              "      <td>0.086777</td>\n",
              "      <td>875.0</td>\n",
              "      <td>1806.0</td>\n",
              "      <td>0.347258</td>\n",
              "      <td>1632.0</td>\n",
              "      <td>2573.0</td>\n",
              "      <td>0.223781</td>\n",
              "      <td>6564.0</td>\n",
              "      <td>6744.0</td>\n",
              "      <td>0.013526</td>\n",
              "      <td>2793.0</td>\n",
              "      <td>3665.0</td>\n",
              "      <td>0.135026</td>\n",
              "      <td>3620.0</td>\n",
              "      <td>4239.0</td>\n",
              "      <td>0.078763</td>\n",
              "      <td>2246.0</td>\n",
              "      <td>3355.0</td>\n",
              "      <td>...</td>\n",
              "      <td>0.113228</td>\n",
              "      <td>1858.0</td>\n",
              "      <td>2279.0</td>\n",
              "      <td>0.101765</td>\n",
              "      <td>2682.0</td>\n",
              "      <td>3021.0</td>\n",
              "      <td>0.059442</td>\n",
              "      <td>4968.0</td>\n",
              "      <td>5380.0</td>\n",
              "      <td>0.039814</td>\n",
              "      <td>2113.0</td>\n",
              "      <td>2724.0</td>\n",
              "      <td>0.126318</td>\n",
              "      <td>1855.0</td>\n",
              "      <td>2399.0</td>\n",
              "      <td>0.127880</td>\n",
              "      <td>2128.0</td>\n",
              "      <td>2662.0</td>\n",
              "      <td>0.111482</td>\n",
              "      <td>1923.0</td>\n",
              "      <td>2424.0</td>\n",
              "      <td>0.115252</td>\n",
              "      <td>2166.0</td>\n",
              "      <td>2752.0</td>\n",
              "      <td>0.119154</td>\n",
              "      <td>162</td>\n",
              "      <td>2654</td>\n",
              "      <td>Rabi</td>\n",
              "      <td>2018</td>\n",
              "      <td>Rajasthan</td>\n",
              "      <td>Sikar</td>\n",
              "      <td>Khandela</td>\n",
              "      <td>Tehsil</td>\n",
              "      <td>0.40</td>\n",
              "      <td>Hectare</td>\n",
              "      <td>2018-11-22</td>\n",
              "      <td>2019-04-03</td>\n",
              "      <td>2019-04-30</td>\n",
              "      <td>Wheat</td>\n",
              "      <td>43REL</td>\n",
              "    </tr>\n",
              "    <tr>\n",
              "      <th>2</th>\n",
              "      <td>75.511250</td>\n",
              "      <td>27.412203</td>\n",
              "      <td>1051.0</td>\n",
              "      <td>3761.0</td>\n",
              "      <td>0.563175</td>\n",
              "      <td>1865.0</td>\n",
              "      <td>3791.0</td>\n",
              "      <td>0.340523</td>\n",
              "      <td>6497.0</td>\n",
              "      <td>7150.0</td>\n",
              "      <td>0.047849</td>\n",
              "      <td>6007.0</td>\n",
              "      <td>6407.0</td>\n",
              "      <td>0.032222</td>\n",
              "      <td>5093.0</td>\n",
              "      <td>5796.0</td>\n",
              "      <td>0.064561</td>\n",
              "      <td>8105.0</td>\n",
              "      <td>8150.0</td>\n",
              "      <td>0.002768</td>\n",
              "      <td>4641.0</td>\n",
              "      <td>5523.0</td>\n",
              "      <td>0.086777</td>\n",
              "      <td>875.0</td>\n",
              "      <td>1806.0</td>\n",
              "      <td>0.347258</td>\n",
              "      <td>1632.0</td>\n",
              "      <td>2573.0</td>\n",
              "      <td>0.223781</td>\n",
              "      <td>6564.0</td>\n",
              "      <td>6744.0</td>\n",
              "      <td>0.013526</td>\n",
              "      <td>2793.0</td>\n",
              "      <td>3665.0</td>\n",
              "      <td>0.135026</td>\n",
              "      <td>3620.0</td>\n",
              "      <td>4239.0</td>\n",
              "      <td>0.078763</td>\n",
              "      <td>2246.0</td>\n",
              "      <td>3355.0</td>\n",
              "      <td>...</td>\n",
              "      <td>0.113228</td>\n",
              "      <td>1858.0</td>\n",
              "      <td>2279.0</td>\n",
              "      <td>0.101765</td>\n",
              "      <td>2682.0</td>\n",
              "      <td>3021.0</td>\n",
              "      <td>0.059442</td>\n",
              "      <td>4968.0</td>\n",
              "      <td>5380.0</td>\n",
              "      <td>0.039814</td>\n",
              "      <td>2113.0</td>\n",
              "      <td>2724.0</td>\n",
              "      <td>0.126318</td>\n",
              "      <td>1855.0</td>\n",
              "      <td>2399.0</td>\n",
              "      <td>0.127880</td>\n",
              "      <td>2128.0</td>\n",
              "      <td>2662.0</td>\n",
              "      <td>0.111482</td>\n",
              "      <td>1923.0</td>\n",
              "      <td>2424.0</td>\n",
              "      <td>0.115252</td>\n",
              "      <td>2166.0</td>\n",
              "      <td>2752.0</td>\n",
              "      <td>0.119154</td>\n",
              "      <td>160</td>\n",
              "      <td>2652</td>\n",
              "      <td>Rabi</td>\n",
              "      <td>2018</td>\n",
              "      <td>Rajasthan</td>\n",
              "      <td>Sikar</td>\n",
              "      <td>Khandela</td>\n",
              "      <td>Tehsil</td>\n",
              "      <td>0.30</td>\n",
              "      <td>Hectare</td>\n",
              "      <td>2018-11-18</td>\n",
              "      <td>2019-04-03</td>\n",
              "      <td>2019-04-30</td>\n",
              "      <td>Wheat</td>\n",
              "      <td>43REL</td>\n",
              "    </tr>\n",
              "    <tr>\n",
              "      <th>3</th>\n",
              "      <td>75.511250</td>\n",
              "      <td>27.412203</td>\n",
              "      <td>1051.0</td>\n",
              "      <td>3761.0</td>\n",
              "      <td>0.563175</td>\n",
              "      <td>1865.0</td>\n",
              "      <td>3791.0</td>\n",
              "      <td>0.340523</td>\n",
              "      <td>6497.0</td>\n",
              "      <td>7150.0</td>\n",
              "      <td>0.047849</td>\n",
              "      <td>6007.0</td>\n",
              "      <td>6407.0</td>\n",
              "      <td>0.032222</td>\n",
              "      <td>5093.0</td>\n",
              "      <td>5796.0</td>\n",
              "      <td>0.064561</td>\n",
              "      <td>8105.0</td>\n",
              "      <td>8150.0</td>\n",
              "      <td>0.002768</td>\n",
              "      <td>4641.0</td>\n",
              "      <td>5523.0</td>\n",
              "      <td>0.086777</td>\n",
              "      <td>875.0</td>\n",
              "      <td>1806.0</td>\n",
              "      <td>0.347258</td>\n",
              "      <td>1632.0</td>\n",
              "      <td>2573.0</td>\n",
              "      <td>0.223781</td>\n",
              "      <td>6564.0</td>\n",
              "      <td>6744.0</td>\n",
              "      <td>0.013526</td>\n",
              "      <td>2793.0</td>\n",
              "      <td>3665.0</td>\n",
              "      <td>0.135026</td>\n",
              "      <td>3620.0</td>\n",
              "      <td>4239.0</td>\n",
              "      <td>0.078763</td>\n",
              "      <td>2246.0</td>\n",
              "      <td>3355.0</td>\n",
              "      <td>...</td>\n",
              "      <td>0.113228</td>\n",
              "      <td>1858.0</td>\n",
              "      <td>2279.0</td>\n",
              "      <td>0.101765</td>\n",
              "      <td>2682.0</td>\n",
              "      <td>3021.0</td>\n",
              "      <td>0.059442</td>\n",
              "      <td>4968.0</td>\n",
              "      <td>5380.0</td>\n",
              "      <td>0.039814</td>\n",
              "      <td>2113.0</td>\n",
              "      <td>2724.0</td>\n",
              "      <td>0.126318</td>\n",
              "      <td>1855.0</td>\n",
              "      <td>2399.0</td>\n",
              "      <td>0.127880</td>\n",
              "      <td>2128.0</td>\n",
              "      <td>2662.0</td>\n",
              "      <td>0.111482</td>\n",
              "      <td>1923.0</td>\n",
              "      <td>2424.0</td>\n",
              "      <td>0.115252</td>\n",
              "      <td>2166.0</td>\n",
              "      <td>2752.0</td>\n",
              "      <td>0.119154</td>\n",
              "      <td>162</td>\n",
              "      <td>2654</td>\n",
              "      <td>Rabi</td>\n",
              "      <td>2018</td>\n",
              "      <td>Rajasthan</td>\n",
              "      <td>Sikar</td>\n",
              "      <td>Khandela</td>\n",
              "      <td>Tehsil</td>\n",
              "      <td>0.40</td>\n",
              "      <td>Hectare</td>\n",
              "      <td>2018-11-22</td>\n",
              "      <td>2019-04-03</td>\n",
              "      <td>2019-04-30</td>\n",
              "      <td>Wheat</td>\n",
              "      <td>43REL</td>\n",
              "    </tr>\n",
              "    <tr>\n",
              "      <th>4</th>\n",
              "      <td>75.511250</td>\n",
              "      <td>27.412199</td>\n",
              "      <td>1051.0</td>\n",
              "      <td>3761.0</td>\n",
              "      <td>0.563175</td>\n",
              "      <td>1865.0</td>\n",
              "      <td>3791.0</td>\n",
              "      <td>0.340523</td>\n",
              "      <td>6497.0</td>\n",
              "      <td>7150.0</td>\n",
              "      <td>0.047849</td>\n",
              "      <td>6007.0</td>\n",
              "      <td>6407.0</td>\n",
              "      <td>0.032222</td>\n",
              "      <td>5093.0</td>\n",
              "      <td>5796.0</td>\n",
              "      <td>0.064561</td>\n",
              "      <td>8105.0</td>\n",
              "      <td>8150.0</td>\n",
              "      <td>0.002768</td>\n",
              "      <td>4641.0</td>\n",
              "      <td>5523.0</td>\n",
              "      <td>0.086777</td>\n",
              "      <td>875.0</td>\n",
              "      <td>1806.0</td>\n",
              "      <td>0.347258</td>\n",
              "      <td>1632.0</td>\n",
              "      <td>2573.0</td>\n",
              "      <td>0.223781</td>\n",
              "      <td>6564.0</td>\n",
              "      <td>6744.0</td>\n",
              "      <td>0.013526</td>\n",
              "      <td>2793.0</td>\n",
              "      <td>3665.0</td>\n",
              "      <td>0.135026</td>\n",
              "      <td>3620.0</td>\n",
              "      <td>4239.0</td>\n",
              "      <td>0.078763</td>\n",
              "      <td>2246.0</td>\n",
              "      <td>3355.0</td>\n",
              "      <td>...</td>\n",
              "      <td>0.113228</td>\n",
              "      <td>1858.0</td>\n",
              "      <td>2279.0</td>\n",
              "      <td>0.101765</td>\n",
              "      <td>2682.0</td>\n",
              "      <td>3021.0</td>\n",
              "      <td>0.059442</td>\n",
              "      <td>4968.0</td>\n",
              "      <td>5380.0</td>\n",
              "      <td>0.039814</td>\n",
              "      <td>2113.0</td>\n",
              "      <td>2724.0</td>\n",
              "      <td>0.126318</td>\n",
              "      <td>1855.0</td>\n",
              "      <td>2399.0</td>\n",
              "      <td>0.127880</td>\n",
              "      <td>2128.0</td>\n",
              "      <td>2662.0</td>\n",
              "      <td>0.111482</td>\n",
              "      <td>1923.0</td>\n",
              "      <td>2424.0</td>\n",
              "      <td>0.115252</td>\n",
              "      <td>2166.0</td>\n",
              "      <td>2752.0</td>\n",
              "      <td>0.119154</td>\n",
              "      <td>161</td>\n",
              "      <td>2653</td>\n",
              "      <td>Rabi</td>\n",
              "      <td>2018</td>\n",
              "      <td>Rajasthan</td>\n",
              "      <td>Sikar</td>\n",
              "      <td>Khandela</td>\n",
              "      <td>Tehsil</td>\n",
              "      <td>0.30</td>\n",
              "      <td>Hectare</td>\n",
              "      <td>2018-11-14</td>\n",
              "      <td>2019-04-03</td>\n",
              "      <td>2019-04-30</td>\n",
              "      <td>Wheat</td>\n",
              "      <td>43REL</td>\n",
              "    </tr>\n",
              "    <tr>\n",
              "      <th>...</th>\n",
              "      <td>...</td>\n",
              "      <td>...</td>\n",
              "      <td>...</td>\n",
              "      <td>...</td>\n",
              "      <td>...</td>\n",
              "      <td>...</td>\n",
              "      <td>...</td>\n",
              "      <td>...</td>\n",
              "      <td>...</td>\n",
              "      <td>...</td>\n",
              "      <td>...</td>\n",
              "      <td>...</td>\n",
              "      <td>...</td>\n",
              "      <td>...</td>\n",
              "      <td>...</td>\n",
              "      <td>...</td>\n",
              "      <td>...</td>\n",
              "      <td>...</td>\n",
              "      <td>...</td>\n",
              "      <td>...</td>\n",
              "      <td>...</td>\n",
              "      <td>...</td>\n",
              "      <td>...</td>\n",
              "      <td>...</td>\n",
              "      <td>...</td>\n",
              "      <td>...</td>\n",
              "      <td>...</td>\n",
              "      <td>...</td>\n",
              "      <td>...</td>\n",
              "      <td>...</td>\n",
              "      <td>...</td>\n",
              "      <td>...</td>\n",
              "      <td>...</td>\n",
              "      <td>...</td>\n",
              "      <td>...</td>\n",
              "      <td>...</td>\n",
              "      <td>...</td>\n",
              "      <td>...</td>\n",
              "      <td>...</td>\n",
              "      <td>...</td>\n",
              "      <td>...</td>\n",
              "      <td>...</td>\n",
              "      <td>...</td>\n",
              "      <td>...</td>\n",
              "      <td>...</td>\n",
              "      <td>...</td>\n",
              "      <td>...</td>\n",
              "      <td>...</td>\n",
              "      <td>...</td>\n",
              "      <td>...</td>\n",
              "      <td>...</td>\n",
              "      <td>...</td>\n",
              "      <td>...</td>\n",
              "      <td>...</td>\n",
              "      <td>...</td>\n",
              "      <td>...</td>\n",
              "      <td>...</td>\n",
              "      <td>...</td>\n",
              "      <td>...</td>\n",
              "      <td>...</td>\n",
              "      <td>...</td>\n",
              "      <td>...</td>\n",
              "      <td>...</td>\n",
              "      <td>...</td>\n",
              "      <td>...</td>\n",
              "      <td>...</td>\n",
              "      <td>...</td>\n",
              "      <td>...</td>\n",
              "      <td>...</td>\n",
              "      <td>...</td>\n",
              "      <td>...</td>\n",
              "      <td>...</td>\n",
              "      <td>...</td>\n",
              "      <td>...</td>\n",
              "      <td>...</td>\n",
              "      <td>...</td>\n",
              "      <td>...</td>\n",
              "      <td>...</td>\n",
              "      <td>...</td>\n",
              "      <td>...</td>\n",
              "      <td>...</td>\n",
              "    </tr>\n",
              "    <tr>\n",
              "      <th>571</th>\n",
              "      <td>75.721800</td>\n",
              "      <td>27.733555</td>\n",
              "      <td>1548.0</td>\n",
              "      <td>3155.0</td>\n",
              "      <td>0.341697</td>\n",
              "      <td>1775.0</td>\n",
              "      <td>3625.0</td>\n",
              "      <td>0.342593</td>\n",
              "      <td>7525.0</td>\n",
              "      <td>7846.0</td>\n",
              "      <td>0.020883</td>\n",
              "      <td>4871.0</td>\n",
              "      <td>5357.0</td>\n",
              "      <td>0.047517</td>\n",
              "      <td>5049.0</td>\n",
              "      <td>5746.0</td>\n",
              "      <td>0.064567</td>\n",
              "      <td>6634.0</td>\n",
              "      <td>6809.0</td>\n",
              "      <td>0.013018</td>\n",
              "      <td>5956.0</td>\n",
              "      <td>6334.0</td>\n",
              "      <td>0.030757</td>\n",
              "      <td>11895.0</td>\n",
              "      <td>8865.0</td>\n",
              "      <td>-0.145954</td>\n",
              "      <td>4058.0</td>\n",
              "      <td>4684.0</td>\n",
              "      <td>0.071608</td>\n",
              "      <td>5955.0</td>\n",
              "      <td>6358.0</td>\n",
              "      <td>0.032730</td>\n",
              "      <td>3999.0</td>\n",
              "      <td>5258.0</td>\n",
              "      <td>0.136005</td>\n",
              "      <td>1457.0</td>\n",
              "      <td>4077.0</td>\n",
              "      <td>0.473437</td>\n",
              "      <td>2025.0</td>\n",
              "      <td>3256.0</td>\n",
              "      <td>...</td>\n",
              "      <td>0.093080</td>\n",
              "      <td>2320.0</td>\n",
              "      <td>2770.0</td>\n",
              "      <td>0.088409</td>\n",
              "      <td>2513.0</td>\n",
              "      <td>3013.0</td>\n",
              "      <td>0.090481</td>\n",
              "      <td>2229.0</td>\n",
              "      <td>2891.0</td>\n",
              "      <td>0.129297</td>\n",
              "      <td>2769.0</td>\n",
              "      <td>3359.0</td>\n",
              "      <td>0.096279</td>\n",
              "      <td>2470.0</td>\n",
              "      <td>2962.0</td>\n",
              "      <td>0.090574</td>\n",
              "      <td>2562.0</td>\n",
              "      <td>3251.0</td>\n",
              "      <td>0.118527</td>\n",
              "      <td>2257.0</td>\n",
              "      <td>2940.0</td>\n",
              "      <td>0.131422</td>\n",
              "      <td>2711.0</td>\n",
              "      <td>3220.0</td>\n",
              "      <td>0.085820</td>\n",
              "      <td>1338</td>\n",
              "      <td>94900</td>\n",
              "      <td>Rabi</td>\n",
              "      <td>2018</td>\n",
              "      <td>Rajasthan</td>\n",
              "      <td>Sikar</td>\n",
              "      <td>Neem Ka Thana</td>\n",
              "      <td>Tehsil</td>\n",
              "      <td>0.40</td>\n",
              "      <td>Hectare</td>\n",
              "      <td>2018-11-28</td>\n",
              "      <td>2019-04-13</td>\n",
              "      <td>2019-04-18</td>\n",
              "      <td>Wheat</td>\n",
              "      <td>43REL</td>\n",
              "    </tr>\n",
              "    <tr>\n",
              "      <th>572</th>\n",
              "      <td>75.713715</td>\n",
              "      <td>27.676476</td>\n",
              "      <td>1253.0</td>\n",
              "      <td>3256.0</td>\n",
              "      <td>0.444223</td>\n",
              "      <td>1381.0</td>\n",
              "      <td>3721.0</td>\n",
              "      <td>0.458644</td>\n",
              "      <td>7822.0</td>\n",
              "      <td>8219.0</td>\n",
              "      <td>0.024749</td>\n",
              "      <td>5189.0</td>\n",
              "      <td>5642.0</td>\n",
              "      <td>0.041824</td>\n",
              "      <td>4572.0</td>\n",
              "      <td>5333.0</td>\n",
              "      <td>0.076830</td>\n",
              "      <td>6647.0</td>\n",
              "      <td>6901.0</td>\n",
              "      <td>0.018748</td>\n",
              "      <td>1147.0</td>\n",
              "      <td>4126.0</td>\n",
              "      <td>0.564954</td>\n",
              "      <td>5066.0</td>\n",
              "      <td>5733.0</td>\n",
              "      <td>0.061765</td>\n",
              "      <td>2177.0</td>\n",
              "      <td>3569.0</td>\n",
              "      <td>0.242255</td>\n",
              "      <td>4966.0</td>\n",
              "      <td>5563.0</td>\n",
              "      <td>0.056701</td>\n",
              "      <td>1315.0</td>\n",
              "      <td>3801.0</td>\n",
              "      <td>0.485927</td>\n",
              "      <td>2024.0</td>\n",
              "      <td>4021.0</td>\n",
              "      <td>0.330356</td>\n",
              "      <td>2379.0</td>\n",
              "      <td>3810.0</td>\n",
              "      <td>...</td>\n",
              "      <td>0.110619</td>\n",
              "      <td>2031.0</td>\n",
              "      <td>2538.0</td>\n",
              "      <td>0.110965</td>\n",
              "      <td>2538.0</td>\n",
              "      <td>3161.0</td>\n",
              "      <td>0.109317</td>\n",
              "      <td>2168.0</td>\n",
              "      <td>2644.0</td>\n",
              "      <td>0.098919</td>\n",
              "      <td>2431.0</td>\n",
              "      <td>3061.0</td>\n",
              "      <td>0.114712</td>\n",
              "      <td>2242.0</td>\n",
              "      <td>2795.0</td>\n",
              "      <td>0.109788</td>\n",
              "      <td>2367.0</td>\n",
              "      <td>2942.0</td>\n",
              "      <td>0.108307</td>\n",
              "      <td>2184.0</td>\n",
              "      <td>2725.0</td>\n",
              "      <td>0.110206</td>\n",
              "      <td>2367.0</td>\n",
              "      <td>2962.0</td>\n",
              "      <td>0.111653</td>\n",
              "      <td>1339</td>\n",
              "      <td>94901</td>\n",
              "      <td>Rabi</td>\n",
              "      <td>2018</td>\n",
              "      <td>Rajasthan</td>\n",
              "      <td>Sikar</td>\n",
              "      <td>Neem Ka Thana</td>\n",
              "      <td>Tehsil</td>\n",
              "      <td>0.33</td>\n",
              "      <td>Hectare</td>\n",
              "      <td>2018-11-09</td>\n",
              "      <td>2019-04-06</td>\n",
              "      <td>2019-04-18</td>\n",
              "      <td>Wheat</td>\n",
              "      <td>43REL</td>\n",
              "    </tr>\n",
              "    <tr>\n",
              "      <th>573</th>\n",
              "      <td>75.715996</td>\n",
              "      <td>27.717580</td>\n",
              "      <td>1543.0</td>\n",
              "      <td>3083.0</td>\n",
              "      <td>0.332901</td>\n",
              "      <td>1577.0</td>\n",
              "      <td>3428.0</td>\n",
              "      <td>0.369830</td>\n",
              "      <td>7580.0</td>\n",
              "      <td>7923.0</td>\n",
              "      <td>0.022125</td>\n",
              "      <td>4898.0</td>\n",
              "      <td>5357.0</td>\n",
              "      <td>0.044759</td>\n",
              "      <td>4740.0</td>\n",
              "      <td>5461.0</td>\n",
              "      <td>0.070679</td>\n",
              "      <td>6596.0</td>\n",
              "      <td>6847.0</td>\n",
              "      <td>0.018671</td>\n",
              "      <td>986.0</td>\n",
              "      <td>1791.0</td>\n",
              "      <td>0.289881</td>\n",
              "      <td>10240.0</td>\n",
              "      <td>10223.0</td>\n",
              "      <td>-0.000831</td>\n",
              "      <td>3475.0</td>\n",
              "      <td>4268.0</td>\n",
              "      <td>0.102415</td>\n",
              "      <td>6026.0</td>\n",
              "      <td>6417.0</td>\n",
              "      <td>0.031423</td>\n",
              "      <td>3495.0</td>\n",
              "      <td>4679.0</td>\n",
              "      <td>0.144850</td>\n",
              "      <td>1574.0</td>\n",
              "      <td>2830.0</td>\n",
              "      <td>0.285195</td>\n",
              "      <td>2172.0</td>\n",
              "      <td>3481.0</td>\n",
              "      <td>...</td>\n",
              "      <td>0.082505</td>\n",
              "      <td>1912.0</td>\n",
              "      <td>2322.0</td>\n",
              "      <td>0.096835</td>\n",
              "      <td>2433.0</td>\n",
              "      <td>2826.0</td>\n",
              "      <td>0.074729</td>\n",
              "      <td>1948.0</td>\n",
              "      <td>2366.0</td>\n",
              "      <td>0.096894</td>\n",
              "      <td>2075.0</td>\n",
              "      <td>2569.0</td>\n",
              "      <td>0.106374</td>\n",
              "      <td>1993.0</td>\n",
              "      <td>2421.0</td>\n",
              "      <td>0.096964</td>\n",
              "      <td>2235.0</td>\n",
              "      <td>2670.0</td>\n",
              "      <td>0.088685</td>\n",
              "      <td>2050.0</td>\n",
              "      <td>2507.0</td>\n",
              "      <td>0.100285</td>\n",
              "      <td>2134.0</td>\n",
              "      <td>2665.0</td>\n",
              "      <td>0.110648</td>\n",
              "      <td>1340</td>\n",
              "      <td>94902</td>\n",
              "      <td>Rabi</td>\n",
              "      <td>2018</td>\n",
              "      <td>Rajasthan</td>\n",
              "      <td>Sikar</td>\n",
              "      <td>Neem Ka Thana</td>\n",
              "      <td>Tehsil</td>\n",
              "      <td>1.29</td>\n",
              "      <td>Hectare</td>\n",
              "      <td>2018-11-04</td>\n",
              "      <td>2019-04-01</td>\n",
              "      <td>2019-04-14</td>\n",
              "      <td>Bengal Gram (Chana)</td>\n",
              "      <td>43REL</td>\n",
              "    </tr>\n",
              "    <tr>\n",
              "      <th>574</th>\n",
              "      <td>75.655900</td>\n",
              "      <td>27.560034</td>\n",
              "      <td>1731.0</td>\n",
              "      <td>3210.0</td>\n",
              "      <td>0.299332</td>\n",
              "      <td>1831.0</td>\n",
              "      <td>3738.0</td>\n",
              "      <td>0.342431</td>\n",
              "      <td>7025.0</td>\n",
              "      <td>7526.0</td>\n",
              "      <td>0.034431</td>\n",
              "      <td>6213.0</td>\n",
              "      <td>6447.0</td>\n",
              "      <td>0.018483</td>\n",
              "      <td>4891.0</td>\n",
              "      <td>5670.0</td>\n",
              "      <td>0.073762</td>\n",
              "      <td>3271.0</td>\n",
              "      <td>4430.0</td>\n",
              "      <td>0.150500</td>\n",
              "      <td>1055.0</td>\n",
              "      <td>2502.0</td>\n",
              "      <td>0.406803</td>\n",
              "      <td>1498.0</td>\n",
              "      <td>3970.0</td>\n",
              "      <td>0.452085</td>\n",
              "      <td>3351.0</td>\n",
              "      <td>4644.0</td>\n",
              "      <td>0.161726</td>\n",
              "      <td>3558.0</td>\n",
              "      <td>4521.0</td>\n",
              "      <td>0.119198</td>\n",
              "      <td>2368.0</td>\n",
              "      <td>4408.0</td>\n",
              "      <td>0.301063</td>\n",
              "      <td>3986.0</td>\n",
              "      <td>4509.0</td>\n",
              "      <td>0.061566</td>\n",
              "      <td>1901.0</td>\n",
              "      <td>3188.0</td>\n",
              "      <td>...</td>\n",
              "      <td>0.105409</td>\n",
              "      <td>2059.0</td>\n",
              "      <td>2523.0</td>\n",
              "      <td>0.101266</td>\n",
              "      <td>2742.0</td>\n",
              "      <td>3138.0</td>\n",
              "      <td>0.067347</td>\n",
              "      <td>2079.0</td>\n",
              "      <td>2636.0</td>\n",
              "      <td>0.118134</td>\n",
              "      <td>2542.0</td>\n",
              "      <td>3096.0</td>\n",
              "      <td>0.098262</td>\n",
              "      <td>2294.0</td>\n",
              "      <td>2802.0</td>\n",
              "      <td>0.099686</td>\n",
              "      <td>2374.0</td>\n",
              "      <td>2961.0</td>\n",
              "      <td>0.110028</td>\n",
              "      <td>2215.0</td>\n",
              "      <td>2803.0</td>\n",
              "      <td>0.117178</td>\n",
              "      <td>2506.0</td>\n",
              "      <td>3038.0</td>\n",
              "      <td>0.095960</td>\n",
              "      <td>1341</td>\n",
              "      <td>94906</td>\n",
              "      <td>Rabi</td>\n",
              "      <td>2018</td>\n",
              "      <td>Rajasthan</td>\n",
              "      <td>Sikar</td>\n",
              "      <td>Khandela</td>\n",
              "      <td>Tehsil</td>\n",
              "      <td>1.85</td>\n",
              "      <td>Hectare</td>\n",
              "      <td>2018-11-08</td>\n",
              "      <td>2019-04-01</td>\n",
              "      <td>2019-04-17</td>\n",
              "      <td>Bengal Gram (Chana)</td>\n",
              "      <td>43REL</td>\n",
              "    </tr>\n",
              "    <tr>\n",
              "      <th>575</th>\n",
              "      <td>75.655540</td>\n",
              "      <td>27.562355</td>\n",
              "      <td>1257.0</td>\n",
              "      <td>3455.0</td>\n",
              "      <td>0.466469</td>\n",
              "      <td>1521.0</td>\n",
              "      <td>3726.0</td>\n",
              "      <td>0.420240</td>\n",
              "      <td>7275.0</td>\n",
              "      <td>7665.0</td>\n",
              "      <td>0.026104</td>\n",
              "      <td>6225.0</td>\n",
              "      <td>6430.0</td>\n",
              "      <td>0.016199</td>\n",
              "      <td>4902.0</td>\n",
              "      <td>5674.0</td>\n",
              "      <td>0.072995</td>\n",
              "      <td>4625.0</td>\n",
              "      <td>5235.0</td>\n",
              "      <td>0.061866</td>\n",
              "      <td>937.0</td>\n",
              "      <td>3897.0</td>\n",
              "      <td>0.612329</td>\n",
              "      <td>1085.0</td>\n",
              "      <td>4076.0</td>\n",
              "      <td>0.579539</td>\n",
              "      <td>4082.0</td>\n",
              "      <td>5035.0</td>\n",
              "      <td>0.104530</td>\n",
              "      <td>3499.0</td>\n",
              "      <td>4746.0</td>\n",
              "      <td>0.151243</td>\n",
              "      <td>2385.0</td>\n",
              "      <td>4541.0</td>\n",
              "      <td>0.311291</td>\n",
              "      <td>3400.0</td>\n",
              "      <td>4043.0</td>\n",
              "      <td>0.086390</td>\n",
              "      <td>1693.0</td>\n",
              "      <td>3249.0</td>\n",
              "      <td>...</td>\n",
              "      <td>0.146888</td>\n",
              "      <td>1960.0</td>\n",
              "      <td>2529.0</td>\n",
              "      <td>0.126754</td>\n",
              "      <td>2683.0</td>\n",
              "      <td>3112.0</td>\n",
              "      <td>0.074029</td>\n",
              "      <td>1771.0</td>\n",
              "      <td>2469.0</td>\n",
              "      <td>0.164623</td>\n",
              "      <td>2176.0</td>\n",
              "      <td>2855.0</td>\n",
              "      <td>0.134963</td>\n",
              "      <td>1939.0</td>\n",
              "      <td>2643.0</td>\n",
              "      <td>0.153645</td>\n",
              "      <td>2120.0</td>\n",
              "      <td>2805.0</td>\n",
              "      <td>0.139086</td>\n",
              "      <td>1949.0</td>\n",
              "      <td>2680.0</td>\n",
              "      <td>0.157917</td>\n",
              "      <td>2101.0</td>\n",
              "      <td>2945.0</td>\n",
              "      <td>0.167261</td>\n",
              "      <td>1342</td>\n",
              "      <td>94907</td>\n",
              "      <td>Rabi</td>\n",
              "      <td>2018</td>\n",
              "      <td>Rajasthan</td>\n",
              "      <td>Sikar</td>\n",
              "      <td>Khandela</td>\n",
              "      <td>Tehsil</td>\n",
              "      <td>0.98</td>\n",
              "      <td>Hectare</td>\n",
              "      <td>2018-11-19</td>\n",
              "      <td>2019-04-01</td>\n",
              "      <td>2019-04-17</td>\n",
              "      <td>Bengal Gram (Chana)</td>\n",
              "      <td>43REL</td>\n",
              "    </tr>\n",
              "  </tbody>\n",
              "</table>\n",
              "<p>576 rows × 341 columns</p>\n",
              "</div>"
            ],
            "text/plain": [
              "           lng        lat  ...              crop_nm   Name\n",
              "0    75.511250  27.412203  ...                Wheat  43REL\n",
              "1    75.511250  27.412203  ...                Wheat  43REL\n",
              "2    75.511250  27.412203  ...                Wheat  43REL\n",
              "3    75.511250  27.412203  ...                Wheat  43REL\n",
              "4    75.511250  27.412199  ...                Wheat  43REL\n",
              "..         ...        ...  ...                  ...    ...\n",
              "571  75.721800  27.733555  ...                Wheat  43REL\n",
              "572  75.713715  27.676476  ...                Wheat  43REL\n",
              "573  75.715996  27.717580  ...  Bengal Gram (Chana)  43REL\n",
              "574  75.655900  27.560034  ...  Bengal Gram (Chana)  43REL\n",
              "575  75.655540  27.562355  ...  Bengal Gram (Chana)  43REL\n",
              "\n",
              "[576 rows x 341 columns]"
            ]
          },
          "metadata": {
            "tags": []
          },
          "execution_count": 9
        }
      ]
    },
    {
      "cell_type": "code",
      "metadata": {
        "id": "H-lS8FAO0c8c",
        "colab_type": "code",
        "colab": {}
      },
      "source": [
        "#Dropping columns based on initials\n",
        "b48 = [col for col in df_merge_col if (col.startswith('b4') or col.startswith('b8')) ]\n",
        "\n",
        "df = df_merge_col.drop(b48 , axis = 1)\n",
        "df.head()\n",
        "df[df.duplicated()]\n",
        "df.drop_duplicates(keep='first', inplace = True)\n",
        "\n",
        "\n",
        "#Writing file\n",
        "df.to_csv('/content/df.csv')"
      ],
      "execution_count": 0,
      "outputs": []
    },
    {
      "cell_type": "code",
      "metadata": {
        "id": "TMKfinP4fLhm",
        "colab_type": "code",
        "colab": {
          "base_uri": "https://localhost:8080/",
          "height": 147
        },
        "outputId": "286a74bf-5b01-4970-de7a-0ecf95b3fd2c"
      },
      "source": [
        "#Basic EDA on training data\n",
        "print(df.shape)\n",
        "print(df.columns)\n"
      ],
      "execution_count": 47,
      "outputs": [
        {
          "output_type": "stream",
          "text": [
            "(546, 125)\n",
            "Index(['lng', 'lat', 'ndvi_2018-08-01', 'ndvi_2018-08-03', 'ndvi_2018-08-06',\n",
            "       'ndvi_2018-08-08', 'ndvi_2018-08-11', 'ndvi_2018-08-13',\n",
            "       'ndvi_2018-08-16', 'ndvi_2018-08-18',\n",
            "       ...\n",
            "       'distrct', 'lvl_4_n', 'level_4', 'cc_plt_', 'cc_r_nt', 'dt_f_sw',\n",
            "       'dt_f_ct', 'dt_f_hr', 'crop_nm', 'Name'],\n",
            "      dtype='object', length=125)\n"
          ],
          "name": "stdout"
        }
      ]
    },
    {
      "cell_type": "code",
      "metadata": {
        "id": "o4edgLr7fVQW",
        "colab_type": "code",
        "colab": {
          "base_uri": "https://localhost:8080/",
          "height": 70
        },
        "outputId": "95164a55-9154-4e0f-dbcb-9322bfa22344"
      },
      "source": [
        "#Number of ndvi values we have\n",
        "ndvi = [col for col in df if col.startswith('ndvi')]\n",
        "print(ndvi)\n",
        "print(len(ndvi))"
      ],
      "execution_count": 38,
      "outputs": [
        {
          "output_type": "stream",
          "text": [
            "['ndvi_2018-08-01', 'ndvi_2018-08-03', 'ndvi_2018-08-06', 'ndvi_2018-08-08', 'ndvi_2018-08-11', 'ndvi_2018-08-13', 'ndvi_2018-08-16', 'ndvi_2018-08-18', 'ndvi_2018-08-21', 'ndvi_2018-08-23', 'ndvi_2018-08-26', 'ndvi_2018-08-28', 'ndvi_2018-08-31', 'ndvi_2018-09-02', 'ndvi_2018-09-05', 'ndvi_2018-09-07', 'ndvi_2018-09-10', 'ndvi_2018-09-12', 'ndvi_2018-09-17', 'ndvi_2018-09-20', 'ndvi_2018-09-22', 'ndvi_2018-09-25', 'ndvi_2018-09-27', 'ndvi_2018-09-30', 'ndvi_2018-10-02', 'ndvi_2018-10-05', 'ndvi_2018-10-07', 'ndvi_2018-10-10', 'ndvi_2018-10-12', 'ndvi_2018-10-15', 'ndvi_2018-10-17', 'ndvi_2018-10-20', 'ndvi_2018-10-22', 'ndvi_2018-10-25', 'ndvi_2018-10-27', 'ndvi_2018-10-30', 'ndvi_2018-11-01', 'ndvi_2018-11-04', 'ndvi_2018-11-06', 'ndvi_2018-11-09', 'ndvi_2018-11-11', 'ndvi_2018-11-14', 'ndvi_2018-11-16', 'ndvi_2018-11-19', 'ndvi_2018-11-21', 'ndvi_2018-11-24', 'ndvi_2018-11-26', 'ndvi_2018-11-29', 'ndvi_2018-12-01', 'ndvi_2018-12-04', 'ndvi_2018-12-06', 'ndvi_2018-12-09', 'ndvi_2018-12-11', 'ndvi_2018-12-14', 'ndvi_2018-12-16', 'ndvi_2018-12-19', 'ndvi_2018-12-21', 'ndvi_2018-12-24', 'ndvi_2018-12-26', 'ndvi_2018-12-29', 'ndvi_2018-12-31', 'ndvi_2019-01-03', 'ndvi_2019-01-05', 'ndvi_2019-01-08', 'ndvi_2019-01-10', 'ndvi_2019-01-13', 'ndvi_2019-01-15', 'ndvi_2019-01-20', 'ndvi_2019-01-23', 'ndvi_2019-01-25', 'ndvi_2019-01-28', 'ndvi_2019-01-30', 'ndvi_2019-02-02', 'ndvi_2019-02-04', 'ndvi_2019-02-07', 'ndvi_2019-02-09', 'ndvi_2019-02-12', 'ndvi_2019-02-14', 'ndvi_2019-02-17', 'ndvi_2019-02-19', 'ndvi_2019-02-22', 'ndvi_2019-02-24', 'ndvi_2019-02-27', 'ndvi_2019-03-01', 'ndvi_2019-03-04', 'ndvi_2019-03-06', 'ndvi_2019-03-09', 'ndvi_2019-03-11', 'ndvi_2019-03-14', 'ndvi_2019-03-16', 'ndvi_2019-03-19', 'ndvi_2019-03-21', 'ndvi_2019-03-24', 'ndvi_2019-03-26', 'ndvi_2019-03-29', 'ndvi_2019-03-31', 'ndvi_2019-04-03', 'ndvi_2019-04-05', 'ndvi_2019-04-08', 'ndvi_2019-04-10', 'ndvi_2019-04-13', 'ndvi_2019-04-15', 'ndvi_2019-04-18', 'ndvi_2019-04-20', 'ndvi_2019-04-23', 'ndvi_2019-04-25', 'ndvi_2019-04-28', 'ndvi_2019-04-30']\n",
            "108\n"
          ],
          "name": "stdout"
        }
      ]
    },
    {
      "cell_type": "code",
      "metadata": {
        "id": "eryRvR9UhmYB",
        "colab_type": "code",
        "colab": {
          "base_uri": "https://localhost:8080/",
          "height": 196
        },
        "outputId": "d997341e-f571-4e4b-e2ed-4a27a1703499"
      },
      "source": [
        "print(df.describe())\n",
        "\n"
      ],
      "execution_count": 20,
      "outputs": [
        {
          "output_type": "stream",
          "text": [
            "              lng         lat  ...    year     cc_plt_\n",
            "count  576.000000  576.000000  ...   576.0  576.000000\n",
            "mean    75.520018   27.572697  ...  2018.0    0.670692\n",
            "std      0.174537    0.121726  ...     0.0    0.980910\n",
            "min     75.148190   27.367893  ...  2018.0    0.020000\n",
            "25%     75.390645   27.467825  ...  2018.0    0.220000\n",
            "50%     75.537100   27.555302  ...  2018.0    0.400000\n",
            "75%     75.663037   27.647686  ...  2018.0    0.700000\n",
            "max     75.801290   27.884317  ...  2018.0   14.000000\n",
            "\n",
            "[8 rows x 114 columns]\n"
          ],
          "name": "stdout"
        }
      ]
    },
    {
      "cell_type": "code",
      "metadata": {
        "id": "kdTJY5yDjR4P",
        "colab_type": "code",
        "colab": {
          "base_uri": "https://localhost:8080/",
          "height": 196
        },
        "outputId": "26f54cf8-f5cc-48a2-8460-ee0baf8c4b1d"
      },
      "source": [
        "print(df.crop_nm.unique())\n",
        "l = df.groupby(['crop_nm']).count()\n",
        "print(l)"
      ],
      "execution_count": 21,
      "outputs": [
        {
          "output_type": "stream",
          "text": [
            "['Wheat' 'Barley (Jau)' 'Bengal Gram (Chana)' 'Mustard'\n",
            " 'Methi (Fenugreek)']\n",
            "                     lng  lat  ndvi_2018-08-01  ...  dt_f_ct  dt_f_hr  Name\n",
            "crop_nm                                         ...                        \n",
            "Barley (Jau)         128  128              128  ...      128      128   128\n",
            "Bengal Gram (Chana)   89   89               89  ...       89       89    89\n",
            "Methi (Fenugreek)     36   36               36  ...       36       36    36\n",
            "Mustard               80   80               80  ...       80       80    80\n",
            "Wheat                243  243              243  ...      243      243   243\n",
            "\n",
            "[5 rows x 124 columns]\n"
          ],
          "name": "stdout"
        }
      ]
    },
    {
      "cell_type": "code",
      "metadata": {
        "id": "Hl-xSCRkjam_",
        "colab_type": "code",
        "colab": {
          "base_uri": "https://localhost:8080/",
          "height": 628
        },
        "outputId": "d248a988-2ab2-4204-953f-9ae21b918f04"
      },
      "source": [
        "import missingno as mn\n",
        "mn.matrix(df)"
      ],
      "execution_count": 22,
      "outputs": [
        {
          "output_type": "execute_result",
          "data": {
            "text/plain": [
              "<matplotlib.axes._subplots.AxesSubplot at 0x7f339fd35940>"
            ]
          },
          "metadata": {
            "tags": []
          },
          "execution_count": 22
        },
        {
          "output_type": "display_data",
          "data": {
            "image/png": "[encoded data removed]",
            "text/plain": [
              "<Figure size 1800x720 with 2 Axes>"
            ]
          },
          "metadata": {
            "tags": []
          }
        }
      ]
    },
    {
      "cell_type": "code",
      "metadata": {
        "id": "Lm6EIdkFjhri",
        "colab_type": "code",
        "colab": {
          "base_uri": "https://localhost:8080/",
          "height": 490
        },
        "outputId": "f9befd82-35b8-4a80-deed-b89defba5faa"
      },
      "source": [
        "#crop = df.crop_nm.unique()\n",
        "plt\n",
        "plt.bar(l.index,l['index'], )\n",
        "plt.xticks(rotation=70)\n",
        "plt.title(\"Distribution of Crops\")\n",
        "print(l['index'])"
      ],
      "execution_count": 28,
      "outputs": [
        {
          "output_type": "stream",
          "text": [
            "crop_nm\n",
            "Barley (Jau)           128\n",
            "Bengal Gram (Chana)     89\n",
            "Methi (Fenugreek)       36\n",
            "Mustard                 80\n",
            "Wheat                  243\n",
            "Name: index, dtype: int64\n"
          ],
          "name": "stdout"
        },
        {
          "output_type": "display_data",
          "data": {
            "image/png": "[encoded data removed]",
            "text/plain": [
              "<Figure size 432x288 with 1 Axes>"
            ]
          },
          "metadata": {
            "tags": []
          }
        }
      ]
    },
    {
      "cell_type": "code",
      "metadata": {
        "id": "BDyQoAPLj5_x",
        "colab_type": "code",
        "colab": {
          "base_uri": "https://localhost:8080/",
          "height": 395
        },
        "outputId": "bc1616be-f0ae-47f9-d5ba-3c3fa12fa5c4"
      },
      "source": [
        "print(df.season.unique())\n",
        "l1 = df.groupby(['state']).count()\n",
        "print(l1)\n",
        "\n",
        "plt.bar(l1.index,l1['index'], )\n",
        "plt.title(\"Distribution of Crops - Statewise\")"
      ],
      "execution_count": 27,
      "outputs": [
        {
          "output_type": "stream",
          "text": [
            "['Rabi']\n",
            "           lng  lat  ndvi_2018-08-01  ...  dt_f_hr  crop_nm  Name\n",
            "state                                 ...                        \n",
            "Rajasthan  576  576              576  ...      576      576   576\n",
            "\n",
            "[1 rows x 124 columns]\n"
          ],
          "name": "stdout"
        },
        {
          "output_type": "execute_result",
          "data": {
            "text/plain": [
              "Text(0.5, 1.0, 'Distribution of Crops - Statewise')"
            ]
          },
          "metadata": {
            "tags": []
          },
          "execution_count": 27
        },
        {
          "output_type": "display_data",
          "data": {
            "image/png": "[encoded data removed]",
            "text/plain": [
              "<Figure size 432x288 with 1 Axes>"
            ]
          },
          "metadata": {
            "tags": []
          }
        }
      ]
    },
    {
      "cell_type": "code",
      "metadata": {
        "id": "cF9oNcZck66W",
        "colab_type": "code",
        "colab": {
          "base_uri": "https://localhost:8080/",
          "height": 411
        },
        "outputId": "01867687-8f8c-4bdb-f3a9-2f8d9d356018"
      },
      "source": [
        "print(df.season.unique())\n",
        "l1 = df.groupby(['distrct']).count()\n",
        "print(l1)\n",
        "\n",
        "plt.bar(l1.index,l1['index'], )\n",
        "plt.title(\"Distribution of Crops - Districtwise\")"
      ],
      "execution_count": 29,
      "outputs": [
        {
          "output_type": "stream",
          "text": [
            "['Rabi']\n",
            "           lng  lat  ndvi_2018-08-01  ...  dt_f_hr  crop_nm  Name\n",
            "distrct                               ...                        \n",
            "Jhunjhunu   51   51               51  ...       51       51    51\n",
            "Sikar      525  525              525  ...      525      525   525\n",
            "\n",
            "[2 rows x 124 columns]\n"
          ],
          "name": "stdout"
        },
        {
          "output_type": "execute_result",
          "data": {
            "text/plain": [
              "Text(0.5, 1.0, 'Distribution of Crops - Districtwise')"
            ]
          },
          "metadata": {
            "tags": []
          },
          "execution_count": 29
        },
        {
          "output_type": "display_data",
          "data": {
            "image/png": "[encoded data removed]",
            "text/plain": [
              "<Figure size 432x288 with 1 Axes>"
            ]
          },
          "metadata": {
            "tags": []
          }
        }
      ]
    },
    {
      "cell_type": "code",
      "metadata": {
        "id": "g3yAQh2MlH8k",
        "colab_type": "code",
        "colab": {
          "base_uri": "https://localhost:8080/",
          "height": 578
        },
        "outputId": "17ce2545-a3d8-4a56-ab58-ed2cb03c7dee"
      },
      "source": [
        "print(df.season.unique())\n",
        "l3 = df.groupby(['lvl_4_n']).count()\n",
        "print(l3)\n",
        "\n",
        "plt.bar(l3.index,l3['index'])\n",
        "plt.xticks(rotation=90)\n",
        "plt.title(\"Distribution of Crops - lvl_4_n\")"
      ],
      "execution_count": 30,
      "outputs": [
        {
          "output_type": "stream",
          "text": [
            "['Rabi']\n",
            "               lng  lat  ndvi_2018-08-01  ...  dt_f_hr  crop_nm  Name\n",
            "lvl_4_n                                   ...                        \n",
            "Danta Ramgarh   46   46               46  ...       46       46    46\n",
            "Dhond            9    9                9  ...        9        9     9\n",
            "Khandela       189  189              189  ...      189      189   189\n",
            "Nawalgarh       41   41               41  ...       41       41    41\n",
            "Neem Ka Thana   82   82               82  ...       82       82    82\n",
            "Sikar           62   62               62  ...       62       62    62\n",
            "Srimadhopur    137  137              137  ...      137      137   137\n",
            "Udaipurwati     10   10               10  ...       10       10    10\n",
            "\n",
            "[8 rows x 124 columns]\n"
          ],
          "name": "stdout"
        },
        {
          "output_type": "execute_result",
          "data": {
            "text/plain": [
              "Text(0.5, 1.0, 'Distribution of Crops - lvl_4_n')"
            ]
          },
          "metadata": {
            "tags": []
          },
          "execution_count": 30
        },
        {
          "output_type": "display_data",
          "data": {
            "image/png": "[encoded data removed]",
            "text/plain": [
              "<Figure size 432x288 with 1 Axes>"
            ]
          },
          "metadata": {
            "tags": []
          }
        }
      ]
    },
    {
      "cell_type": "code",
      "metadata": {
        "id": "OAjY3HzjlQaB",
        "colab_type": "code",
        "colab": {
          "base_uri": "https://localhost:8080/",
          "height": 381
        },
        "outputId": "4f652505-5f95-43ce-aced-8c590e41e5ff"
      },
      "source": [
        "print(df.season.unique())\n",
        "l1 = df.groupby(['cc_r_nt']).count()\n",
        "print(l1)\n",
        "\n",
        "plt.bar(l1.index,l1['index'] )"
      ],
      "execution_count": 31,
      "outputs": [
        {
          "output_type": "stream",
          "text": [
            "['Rabi']\n",
            "         lng  lat  ndvi_2018-08-01  ...  dt_f_hr  crop_nm  Name\n",
            "cc_r_nt                             ...                        \n",
            "Hectare  576  576              576  ...      576      576   576\n",
            "\n",
            "[1 rows x 124 columns]\n"
          ],
          "name": "stdout"
        },
        {
          "output_type": "execute_result",
          "data": {
            "text/plain": [
              "<BarContainer object of 1 artists>"
            ]
          },
          "metadata": {
            "tags": []
          },
          "execution_count": 31
        },
        {
          "output_type": "display_data",
          "data": {
            "image/png": "[encoded data removed]",
            "text/plain": [
              "<Figure size 432x288 with 1 Axes>"
            ]
          },
          "metadata": {
            "tags": []
          }
        }
      ]
    },
    {
      "cell_type": "code",
      "metadata": {
        "id": "PIfWVL0ylex2",
        "colab_type": "code",
        "colab": {}
      },
      "source": [
        "#Converting dt_f_sw to datetime data type\n",
        "df['dt_f_sw'] =pd.to_datetime( df['dt_f_sw'])\n",
        "df['dt_f_ct'] =pd.to_datetime( df['dt_f_ct'])\n",
        "df['dt_f_hr'] =pd.to_datetime( df['dt_f_hr'])\n"
      ],
      "execution_count": 0,
      "outputs": []
    },
    {
      "cell_type": "code",
      "metadata": {
        "id": "7ZNLAs6ylkB1",
        "colab_type": "code",
        "colab": {
          "base_uri": "https://localhost:8080/",
          "height": 297
        },
        "outputId": "8ff44115-a199-4140-802d-8a7ec1d83f06"
      },
      "source": [
        "l3 = df.groupby(df['dt_f_sw'].dt.strftime('%B'))['index'].count()\n",
        "plt.bar(l3.index,l3)\n",
        "plt.title(\"Crop sowing season Distribution month-wise\")"
      ],
      "execution_count": 33,
      "outputs": [
        {
          "output_type": "execute_result",
          "data": {
            "text/plain": [
              "Text(0.5, 1.0, 'Crop sowing season Distribution month-wise')"
            ]
          },
          "metadata": {
            "tags": []
          },
          "execution_count": 33
        },
        {
          "output_type": "display_data",
          "data": {
            "image/png": "[encoded data removed]",
            "text/plain": [
              "<Figure size 432x288 with 1 Axes>"
            ]
          },
          "metadata": {
            "tags": []
          }
        }
      ]
    },
    {
      "cell_type": "code",
      "metadata": {
        "id": "8r9_EgNhlm27",
        "colab_type": "code",
        "colab": {
          "base_uri": "https://localhost:8080/",
          "height": 297
        },
        "outputId": "8955df07-5b79-429b-b2b8-110b160f60b2"
      },
      "source": [
        "l4 = df.groupby(df['dt_f_hr'].dt.strftime('%B'))['index'].count()\n",
        "plt.bar(l4.index,l4)\n",
        "plt.title(\"Crop harvesting season Distribution month-wise\")"
      ],
      "execution_count": 34,
      "outputs": [
        {
          "output_type": "execute_result",
          "data": {
            "text/plain": [
              "Text(0.5, 1.0, 'Crop harvesting season Distribution month-wise')"
            ]
          },
          "metadata": {
            "tags": []
          },
          "execution_count": 34
        },
        {
          "output_type": "display_data",
          "data": {
            "image/png": "[encoded data removed]",
            "text/plain": [
              "<Figure size 432x288 with 1 Axes>"
            ]
          },
          "metadata": {
            "tags": []
          }
        }
      ]
    },
    {
      "cell_type": "code",
      "metadata": {
        "id": "2GeAlhk8w8kg",
        "colab_type": "code",
        "colab": {}
      },
      "source": [
        ""
      ],
      "execution_count": 0,
      "outputs": []
    },
    {
      "cell_type": "code",
      "metadata": {
        "id": "wXbItiYKmCwT",
        "colab_type": "code",
        "colab": {
          "base_uri": "https://localhost:8080/",
          "height": 297
        },
        "outputId": "7fe1fc15-8e39-450d-f91a-fc20a8725f6d"
      },
      "source": [
        "l4 = df.groupby(df['dt_f_ct'].dt.strftime('%B'))['index'].count()\n",
        "plt.bar(l4.index,l4)\n",
        "plt.title(\"Crop cutiing season Distribution month-wise\")"
      ],
      "execution_count": 35,
      "outputs": [
        {
          "output_type": "execute_result",
          "data": {
            "text/plain": [
              "Text(0.5, 1.0, 'Crop cutiing season Distribution month-wise')"
            ]
          },
          "metadata": {
            "tags": []
          },
          "execution_count": 35
        },
        {
          "output_type": "display_data",
          "data": {
            "image/png": "[encoded data removed]",
            "text/plain": [
              "<Figure size 432x288 with 1 Axes>"
            ]
          },
          "metadata": {
            "tags": []
          }
        }
      ]
    },
    {
      "cell_type": "code",
      "metadata": {
        "id": "AxGXe99gmFDZ",
        "colab_type": "code",
        "colab": {
          "base_uri": "https://localhost:8080/",
          "height": 261
        },
        "outputId": "d08ca478-9b99-4f4f-895e-53570b48bbfa"
      },
      "source": [
        "#Checking for outliers\n",
        "#We will go for principal component analysis in python\n",
        "iq1 = df['cc_plt_'].quantile(0.25)\n",
        "iq3 = df['cc_plt_'].quantile(0.75)\n",
        "iqr = iq3-iq1\n",
        "print(iqr)\n",
        "#Detecting the outliers\n",
        "b = (df['cc_plt_']>iq3+(iqr*1.5)) | (df['cc_plt_']<iq1-(iqr*1.5))\n",
        "print(df[b])"
      ],
      "execution_count": 36,
      "outputs": [
        {
          "output_type": "stream",
          "text": [
            "0.48\n",
            "           lng        lat  ...              crop_nm   Name\n",
            "40   75.501590  27.599926  ...              Mustard  43REL\n",
            "43   75.501750  27.599882  ...              Mustard  43REL\n",
            "44   75.538070  27.469357  ...              Mustard  43REL\n",
            "48   75.713260  27.567831  ...  Bengal Gram (Chana)  43REL\n",
            "50   75.602300  27.577920  ...  Bengal Gram (Chana)  43REL\n",
            "..         ...        ...  ...                  ...    ...\n",
            "541  75.553990  27.447735  ...                Wheat  43REL\n",
            "561  75.632416  27.528107  ...                Wheat  43REL\n",
            "562  75.648990  27.527440  ...                Wheat  43REL\n",
            "566  75.645930  27.539793  ...                Wheat  43REL\n",
            "574  75.655900  27.560034  ...  Bengal Gram (Chana)  43REL\n",
            "\n",
            "[64 rows x 125 columns]\n"
          ],
          "name": "stdout"
        }
      ]
    },
    {
      "cell_type": "code",
      "metadata": {
        "id": "irTWjbEimLO7",
        "colab_type": "code",
        "colab": {
          "base_uri": "https://localhost:8080/",
          "height": 285
        },
        "outputId": "e047a337-6131-4b6d-ba03-360ca0b3439e"
      },
      "source": [
        "import seaborn as sns\n",
        "sns.set(style=\"whitegrid\")\n",
        "\n",
        "ax = sns.boxplot(x=df[\"cc_plt_\"])"
      ],
      "execution_count": 37,
      "outputs": [
        {
          "output_type": "display_data",
          "data": {
            "image/png": "[encoded data removed]",
            "text/plain": [
              "<Figure size 432x288 with 1 Axes>"
            ]
          },
          "metadata": {
            "tags": []
          }
        }
      ]
    },
    {
      "cell_type": "code",
      "metadata": {
        "id": "yVi6tSMzmQdY",
        "colab_type": "code",
        "colab": {
          "base_uri": "https://localhost:8080/",
          "height": 285
        },
        "outputId": "b5ea4261-3949-4346-ba97-050724884270"
      },
      "source": [
        "sns.set(style=\"whitegrid\")\n",
        "\n",
        "ax = sns.boxplot(x=df[\"lat\"])"
      ],
      "execution_count": 38,
      "outputs": [
        {
          "output_type": "display_data",
          "data": {
            "image/png": "[encoded data removed]",
            "text/plain": [
              "<Figure size 432x288 with 1 Axes>"
            ]
          },
          "metadata": {
            "tags": []
          }
        }
      ]
    },
    {
      "cell_type": "code",
      "metadata": {
        "id": "EsjcEywumWJR",
        "colab_type": "code",
        "colab": {
          "base_uri": "https://localhost:8080/",
          "height": 285
        },
        "outputId": "a635a085-ef8c-4e58-d7f5-f5ca504965db"
      },
      "source": [
        "sns.set(style=\"whitegrid\")\n",
        "\n",
        "ax = sns.boxplot(x=df[\"lng\"])"
      ],
      "execution_count": 39,
      "outputs": [
        {
          "output_type": "display_data",
          "data": {
            "image/png": "[encoded data removed]",
            "text/plain": [
              "<Figure size 432x288 with 1 Axes>"
            ]
          },
          "metadata": {
            "tags": []
          }
        }
      ]
    },
    {
      "cell_type": "code",
      "metadata": {
        "id": "WyAUeQv0mew5",
        "colab_type": "code",
        "colab": {
          "base_uri": "https://localhost:8080/",
          "height": 33
        },
        "outputId": "36f0d278-9f36-41d1-e39b-b7ebdc3529a0"
      },
      "source": [
        "#Checking if there are any duplicate values in the dataset\n",
        "df.duplicated().sum()\n",
        "#There are no duplicate values\n"
      ],
      "execution_count": 48,
      "outputs": [
        {
          "output_type": "execute_result",
          "data": {
            "text/plain": [
              "0"
            ]
          },
          "metadata": {
            "tags": []
          },
          "execution_count": 48
        }
      ]
    },
    {
      "cell_type": "code",
      "metadata": {
        "id": "wl8zA5KuxPFH",
        "colab_type": "code",
        "colab": {
          "base_uri": "https://localhost:8080/",
          "height": 980
        },
        "outputId": "bdf988a6-785c-4239-b72c-76774738595b"
      },
      "source": [
        "#Correlation between the time series \n",
        "plt.scatter(df['dt_f_ct'], df['dt_f_hr'])\n",
        "plt.title(\"Correlation between cutting and harvesting\")\n",
        "plt.xticks(rotation=90)\n",
        "plt.show()\n",
        "#Correlation between the time series \n",
        "plt.scatter(df['dt_f_ct'], df['dt_f_sw'])\n",
        "plt.title(\"Correlation between cutting and sowing\")\n",
        "plt.xticks(rotation=90)\n",
        "plt.show()\n",
        "#Correlation between the time series \n",
        "plt.scatter(df['dt_f_hr'], df['dt_f_sw'])\n",
        "plt.title(\"Correlation between harvesting and sowing\")\n",
        "plt.xticks(rotation=90)\n",
        "plt.show()\n"
      ],
      "execution_count": 59,
      "outputs": [
        {
          "output_type": "display_data",
          "data": {
            "image/png": "[encoded data removed]",
            "text/plain": [
              "<Figure size 432x288 with 1 Axes>"
            ]
          },
          "metadata": {
            "tags": []
          }
        },
        {
          "output_type": "display_data",
          "data": {
            "image/png": "[encoded data removed]",
            "text/plain": [
              "<Figure size 432x288 with 1 Axes>"
            ]
          },
          "metadata": {
            "tags": []
          }
        },
        {
          "output_type": "display_data",
          "data": {
            "image/png": "[encoded data removed]",
            "text/plain": [
              "<Figure size 432x288 with 1 Axes>"
            ]
          },
          "metadata": {
            "tags": []
          }
        }
      ]
    },
    {
      "cell_type": "code",
      "metadata": {
        "id": "riqFQgCszDb-",
        "colab_type": "code",
        "colab": {
          "base_uri": "https://localhost:8080/",
          "height": 223
        },
        "outputId": "d4c202f4-5faf-4ec8-9709-f4654b8979f8"
      },
      "source": [
        "#Clustering on data\n",
        "from sklearn.cluster import KMeans\n",
        "model = KMeans(n_clusters = len(samples))\n",
        "model.fit(df[ndvi])\n",
        "samples = df.crop_nm.unique()\n",
        "print(samples)\n",
        "KMeans(algorithm = 'auto', label = model.predict(samples) )\n",
        "print(labels)"
      ],
      "execution_count": 49,
      "outputs": [
        {
          "output_type": "error",
          "ename": "NameError",
          "evalue": "ignored",
          "traceback": [
            "\u001b[0;31m---------------------------------------------------------------------------\u001b[0m",
            "\u001b[0;31mNameError\u001b[0m                                 Traceback (most recent call last)",
            "\u001b[0;32m<ipython-input-49-fdc40dc2d37d>\u001b[0m in \u001b[0;36m<module>\u001b[0;34m()\u001b[0m\n\u001b[1;32m      1\u001b[0m \u001b[0;32mfrom\u001b[0m \u001b[0msklearn\u001b[0m\u001b[0;34m.\u001b[0m\u001b[0mcluster\u001b[0m \u001b[0;32mimport\u001b[0m \u001b[0mKMeans\u001b[0m\u001b[0;34m\u001b[0m\u001b[0;34m\u001b[0m\u001b[0m\n\u001b[0;32m----> 2\u001b[0;31m \u001b[0mmodel\u001b[0m \u001b[0;34m=\u001b[0m \u001b[0mKMeans\u001b[0m\u001b[0;34m(\u001b[0m\u001b[0mn_clusters\u001b[0m \u001b[0;34m=\u001b[0m \u001b[0mlen\u001b[0m\u001b[0;34m(\u001b[0m\u001b[0msamples\u001b[0m\u001b[0;34m)\u001b[0m\u001b[0;34m)\u001b[0m\u001b[0;34m\u001b[0m\u001b[0;34m\u001b[0m\u001b[0m\n\u001b[0m\u001b[1;32m      3\u001b[0m \u001b[0mmodel\u001b[0m\u001b[0;34m.\u001b[0m\u001b[0mfit\u001b[0m\u001b[0;34m(\u001b[0m\u001b[0mdf\u001b[0m\u001b[0;34m[\u001b[0m\u001b[0mndvi\u001b[0m\u001b[0;34m]\u001b[0m\u001b[0;34m)\u001b[0m\u001b[0;34m\u001b[0m\u001b[0;34m\u001b[0m\u001b[0m\n\u001b[1;32m      4\u001b[0m \u001b[0msamples\u001b[0m \u001b[0;34m=\u001b[0m \u001b[0mdf\u001b[0m\u001b[0;34m.\u001b[0m\u001b[0mcrop_nm\u001b[0m\u001b[0;34m.\u001b[0m\u001b[0munique\u001b[0m\u001b[0;34m(\u001b[0m\u001b[0;34m)\u001b[0m\u001b[0;34m\u001b[0m\u001b[0;34m\u001b[0m\u001b[0m\n\u001b[1;32m      5\u001b[0m \u001b[0mprint\u001b[0m\u001b[0;34m(\u001b[0m\u001b[0msamples\u001b[0m\u001b[0;34m)\u001b[0m\u001b[0;34m\u001b[0m\u001b[0;34m\u001b[0m\u001b[0m\n",
            "\u001b[0;31mNameError\u001b[0m: name 'samples' is not defined"
          ]
        }
      ]
    },
    {
      "cell_type": "code",
      "metadata": {
        "id": "EtszEAyjTTxd",
        "colab_type": "code",
        "colab": {
          "base_uri": "https://localhost:8080/",
          "height": 77
        },
        "outputId": "e2af0db0-f61d-4379-efd8-67086ceff936"
      },
      "source": [
        "#importing required libraries\n",
        "from sklearn.preprocessing import MinMaxScaler\n",
        "from keras.models import Sequential\n",
        "from keras.layers import Dense, Dropout, LSTM\n",
        "\n",
        "#creating dataframe\n",
        "data = df.sort_index(ascending=True, axis=0)\n",
        "# new_data = pd.DataFrame(index=0,columns=['ndvi_2018-08-01', 'ndvi_2018-08-03', 'ndvi_2018-08-06', 'ndvi_2018-08-08', 'ndvi_2018-08-11', 'ndvi_2018-08-13', 'ndvi_2018-08-16', 'ndvi_2018-08-18', 'ndvi_2018-08-21', 'ndvi_2018-08-23', 'ndvi_2018-08-26', 'ndvi_2018-08-28', 'ndvi_2018-08-31', 'ndvi_2018-09-02', 'ndvi_2018-09-05', 'ndvi_2018-09-07', 'ndvi_2018-09-10', 'ndvi_2018-09-12', 'ndvi_2018-09-17', 'ndvi_2018-09-20', 'ndvi_2018-09-22', 'ndvi_2018-09-25', 'ndvi_2018-09-27', 'ndvi_2018-09-30', 'ndvi_2018-10-02', 'ndvi_2018-10-05', 'ndvi_2018-10-07', 'ndvi_2018-10-10', 'ndvi_2018-10-12', 'ndvi_2018-10-15', 'ndvi_2018-10-17', 'ndvi_2018-10-20', 'ndvi_2018-10-22', 'ndvi_2018-10-25', 'ndvi_2018-10-27', 'ndvi_2018-10-30', 'ndvi_2018-11-01', 'ndvi_2018-11-04', 'ndvi_2018-11-06', 'ndvi_2018-11-09', 'ndvi_2018-11-11', 'ndvi_2018-11-14', 'ndvi_2018-11-16', 'ndvi_2018-11-19', 'ndvi_2018-11-21', 'ndvi_2018-11-24', 'ndvi_2018-11-26', 'ndvi_2018-11-29', 'ndvi_2018-12-01', 'ndvi_2018-12-04', 'ndvi_2018-12-06', 'ndvi_2018-12-09', 'ndvi_2018-12-11', 'ndvi_2018-12-14', 'ndvi_2018-12-16', 'ndvi_2018-12-19', 'ndvi_2018-12-21', 'ndvi_2018-12-24', 'ndvi_2018-12-26', 'ndvi_2018-12-29', 'ndvi_2018-12-31', 'ndvi_2019-01-03', 'ndvi_2019-01-05', 'ndvi_2019-01-08', 'ndvi_2019-01-10', 'ndvi_2019-01-13', 'ndvi_2019-01-15', 'ndvi_2019-01-20', 'ndvi_2019-01-23', 'ndvi_2019-01-25', 'ndvi_2019-01-28', 'ndvi_2019-01-30', 'ndvi_2019-02-02', 'ndvi_2019-02-04', 'ndvi_2019-02-07', 'ndvi_2019-02-09', 'ndvi_2019-02-12', 'ndvi_2019-02-14', 'ndvi_2019-02-17', 'ndvi_2019-02-19', 'ndvi_2019-02-22', 'ndvi_2019-02-24', 'ndvi_2019-02-27', 'ndvi_2019-03-01', 'ndvi_2019-03-04', 'ndvi_2019-03-06', 'ndvi_2019-03-09', 'ndvi_2019-03-11', 'ndvi_2019-03-14', 'ndvi_2019-03-16', 'ndvi_2019-03-19', 'ndvi_2019-03-21', 'ndvi_2019-03-24', 'ndvi_2019-03-26', 'ndvi_2019-03-29', 'ndvi_2019-03-31', 'ndvi_2019-04-03', 'ndvi_2019-04-05', 'ndvi_2019-04-08', 'ndvi_2019-04-10', 'ndvi_2019-04-13', 'ndvi_2019-04-15', 'ndvi_2019-04-18', 'ndvi_2019-04-20', 'ndvi_2019-04-23', 'ndvi_2019-04-25', 'ndvi_2019-04-28', 'ndvi_2019-04-30'])         \n"
      ],
      "execution_count": 50,
      "outputs": [
        {
          "output_type": "stream",
          "text": [
            "Using TensorFlow backend.\n"
          ],
          "name": "stderr"
        },
        {
          "output_type": "display_data",
          "data": {
            "text/html": [
              "<p style=\"color: red;\">\n",
              "The default version of TensorFlow in Colab will soon switch to TensorFlow 2.x.<br>\n",
              "We recommend you <a href=\"https://www.tensorflow.org/guide/migrate\" target=\"_blank\">upgrade</a> now \n",
              "or ensure your notebook will continue to use TensorFlow 1.x via the <code>%tensorflow_version 1.x</code> magic:\n",
              "<a href=\"https://colab.research.google.com/notebooks/tensorflow_version.ipynb\" target=\"_blank\">more info</a>.</p>\n"
            ],
            "text/plain": [
              "<IPython.core.display.HTML object>"
            ]
          },
          "metadata": {
            "tags": []
          }
        }
      ]
    },
    {
      "cell_type": "code",
      "metadata": {
        "id": "jyTVoa9q1Y43",
        "colab_type": "code",
        "colab": {
          "base_uri": "https://localhost:8080/",
          "height": 33
        },
        "outputId": "232fb016-7982-4246-d1df-0bb240ef67e8"
      },
      "source": [
        "# Import required packages\n",
        "from sklearn import preprocessing\n",
        "import pandas as pd\n",
        "# Create a label (category) encoder object\n",
        "le = preprocessing.LabelEncoder()\n",
        "# Fit the encoder to the pandas column\n",
        "le.fit(df['crop_nm'])"
      ],
      "execution_count": 51,
      "outputs": [
        {
          "output_type": "execute_result",
          "data": {
            "text/plain": [
              "LabelEncoder()"
            ]
          },
          "metadata": {
            "tags": []
          },
          "execution_count": 51
        }
      ]
    },
    {
      "cell_type": "code",
      "metadata": {
        "id": "lpk-zptSTpX4",
        "colab_type": "code",
        "colab": {}
      },
      "source": [
        "#Apply the fitted encoder to the pandas column\n",
        "en=le.transform(df['crop_nm']) "
      ],
      "execution_count": 0,
      "outputs": []
    },
    {
      "cell_type": "code",
      "metadata": {
        "id": "mIhWJNNoTugX",
        "colab_type": "code",
        "colab": {}
      },
      "source": [
        "# address = ['Delhi', 'Bangalore', 'Chennai', 'Patna'] \n",
        "  \n",
        "# Using 'Address' as the column name \n",
        "# and equating it to the list \n",
        "data['encoded'] = en"
      ],
      "execution_count": 0,
      "outputs": []
    },
    {
      "cell_type": "code",
      "metadata": {
        "id": "fxet37q0T3vx",
        "colab_type": "code",
        "colab": {
          "base_uri": "https://localhost:8080/",
          "height": 66
        },
        "outputId": "5d427d4b-a639-44be-b6e3-cdac5b244563"
      },
      "source": [
        "print(data['crop_nm'].unique())\n",
        "print(data['encoded'].unique())"
      ],
      "execution_count": 54,
      "outputs": [
        {
          "output_type": "stream",
          "text": [
            "['Wheat' 'Barley (Jau)' 'Bengal Gram (Chana)' 'Mustard'\n",
            " 'Methi (Fenugreek)']\n",
            "[4 0 1 3 2]\n"
          ],
          "name": "stdout"
        }
      ]
    },
    {
      "cell_type": "code",
      "metadata": {
        "id": "ja45nsCLT52g",
        "colab_type": "code",
        "colab": {}
      },
      "source": [
        "#data.drop(['crop_nm'], axis = 1, inplace = True) \n",
        "data.columns\n",
        "data.drop(['season','state','year','distrct', 'lvl_4_n', 'level_4', 'cc_plt_', 'cc_r_nt', 'dt_f_sw',\n",
        "       'dt_f_ct', 'dt_f_hr', 'Name'], axis = 1, inplace = True) \n"
      ],
      "execution_count": 0,
      "outputs": []
    },
    {
      "cell_type": "code",
      "metadata": {
        "id": "7N_xa9p3UDM3",
        "colab_type": "code",
        "colab": {}
      },
      "source": [
        "from sklearn.model_selection import train_test_split\n",
        "\n",
        "\n",
        "x = data.iloc[:, :-2].values\n",
        "y = data.iloc[:, -1].values\n",
        "#converting dataset into x_train and y_train\n",
        "#scaler = MinMaxScaler(feature_range=(0, 1))\n",
        "#scaled_data = scaler.fit_transform(data)\n",
        "\n",
        "#spliting the dataset into training and test set\n",
        "x_train, x_test, y_train, y_test = train_test_split(x, y, test_size=1/3, random_state=0)"
      ],
      "execution_count": 0,
      "outputs": []
    },
    {
      "cell_type": "code",
      "metadata": {
        "id": "ohusLqsuUKtE",
        "colab_type": "code",
        "colab": {
          "base_uri": "https://localhost:8080/",
          "height": 98
        },
        "outputId": "bfadd911-90cd-4b0f-ee06-889b9b112eaf"
      },
      "source": [
        "from sklearn.metrics import accuracy_score\n",
        "from keras.layers.core import Dense, Activation, Dropout\n",
        "from sklearn.metrics import mean_squared_error\n",
        "from sklearn.utils import shuffle\n",
        "from sklearn.model_selection import GridSearchCV\n",
        "from keras.optimizers import  Adam\n",
        "x_train, y_train = np.array(x_train), np.array(y_train)\n",
        "\n",
        "x_train = np.reshape(x_train, (x_train.shape[0],x_train.shape[1],1))\n",
        "\n",
        "#create and fit the LSTM network\n",
        "def create_model(n_lag,batch_size, num_nodes):\n",
        "    # training into [samples, timesteps, features]\n",
        "    # design network\n",
        "    model = Sequential()\n",
        "    model.add(LSTM(200,input_shape=(n_lag,no_of_input_features),return_sequences=True))\n",
        "    model.add(Dropout(0.2))\n",
        "    model.add(LSTM(200,return_sequences=False))\n",
        "    model.add(Dropout(0.3))\n",
        "    model.add(LSTM(100))\n",
        "    model.add(Dropout(0.5))\n",
        "    model.add(Dense(no_of_input_features*n_seq_forecast))\n",
        "    model.add(Activation(\"linear\"))\n",
        "    adam = Adam(lr=0.001, beta_1=0.9, beta_2=0.999, epsilon=None, decay=1e-7, amsgrad=False)\n",
        "\n",
        "    model.compile(loss='mean_squared_error', optimizer=adam)\n",
        "    \n",
        "    model.summary()\n",
        "    return model\n",
        "model = Sequential()\n",
        "model.add(LSTM(units=1000, return_sequences=True, input_shape=(x_train.shape[1],1)))\n",
        "model.add(LSTM(units=500))\n",
        "#model.add(LSTM(units=250))\n",
        "model.add(Dense(1))\n",
        "\n",
        "model.compile(loss='mean_squared_error', optimizer='adam', metrics=['accuracy'])\n",
        "model.fit(x_train, y_train, epochs=2, batch_size=1, verbose=1)"
      ],
      "execution_count": 75,
      "outputs": [
        {
          "output_type": "stream",
          "text": [
            "Epoch 1/2\n",
            "364/364 [==============================] - 826s 2s/step - loss: 3.1396 - acc: 0.1016\n",
            "Epoch 2/2\n",
            "364/364 [==============================] - 857s 2s/step - loss: 2.9230 - acc: 0.0824\n"
          ],
          "name": "stdout"
        },
        {
          "output_type": "execute_result",
          "data": {
            "text/plain": [
              "<keras.callbacks.History at 0x7f226dfea128>"
            ]
          },
          "metadata": {
            "tags": []
          },
          "execution_count": 75
        }
      ]
    },
    {
      "cell_type": "code",
      "metadata": {
        "id": "b0roA21YVequ",
        "colab_type": "code",
        "colab": {
          "base_uri": "https://localhost:8080/",
          "height": 115
        },
        "outputId": "b8ef32a5-2ff1-466e-af03-e8a352099655"
      },
      "source": [
        "# Fit the model.\n",
        "model.fit(x_train, \n",
        "          y_train.reshape(len(y_train),-1), \n",
        "          batch_size = 1,\n",
        "          epochs = 2,\n",
        "          validation_split = 0.2,\n",
        "          verbose=1,shuffle = False)"
      ],
      "execution_count": 78,
      "outputs": [
        {
          "output_type": "stream",
          "text": [
            "Train on 291 samples, validate on 73 samples\n",
            "Epoch 1/2\n",
            "291/291 [==============================] - 730s 3s/step - loss: 2.9065 - acc: 0.1065 - val_loss: 3.9583 - val_acc: 0.1233\n",
            "Epoch 2/2\n",
            "291/291 [==============================] - 717s 2s/step - loss: 2.8818 - acc: 0.1100 - val_loss: 3.4151 - val_acc: 0.1233\n"
          ],
          "name": "stdout"
        },
        {
          "output_type": "execute_result",
          "data": {
            "text/plain": [
              "<keras.callbacks.History at 0x7f226e0a6710>"
            ]
          },
          "metadata": {
            "tags": []
          },
          "execution_count": 78
        }
      ]
    },
    {
      "cell_type": "code",
      "metadata": {
        "id": "2OLt-0R2kkNk",
        "colab_type": "code",
        "colab": {
          "base_uri": "https://localhost:8080/",
          "height": 296
        },
        "outputId": "ec1a6264-1f51-49ca-cab0-7e5ab289f668"
      },
      "source": [
        "model.evaluate(x_test, y_test)\n"
      ],
      "execution_count": 80,
      "outputs": [
        {
          "output_type": "error",
          "ename": "ValueError",
          "evalue": "ignored",
          "traceback": [
            "\u001b[0;31m---------------------------------------------------------------------------\u001b[0m",
            "\u001b[0;31mValueError\u001b[0m                                Traceback (most recent call last)",
            "\u001b[0;32m<ipython-input-80-113a54cbdef7>\u001b[0m in \u001b[0;36m<module>\u001b[0;34m()\u001b[0m\n\u001b[0;32m----> 1\u001b[0;31m \u001b[0mmodel\u001b[0m\u001b[0;34m.\u001b[0m\u001b[0mevaluate\u001b[0m\u001b[0;34m(\u001b[0m\u001b[0mx_test\u001b[0m\u001b[0;34m,\u001b[0m \u001b[0my_test\u001b[0m\u001b[0;34m)\u001b[0m\u001b[0;34m\u001b[0m\u001b[0;34m\u001b[0m\u001b[0m\n\u001b[0m",
            "\u001b[0;32m/usr/local/lib/python3.6/dist-packages/keras/engine/training.py\u001b[0m in \u001b[0;36mevaluate\u001b[0;34m(self, x, y, batch_size, verbose, sample_weight, steps, callbacks, max_queue_size, workers, use_multiprocessing)\u001b[0m\n\u001b[1;32m   1286\u001b[0m             \u001b[0mx\u001b[0m\u001b[0;34m,\u001b[0m \u001b[0my\u001b[0m\u001b[0;34m,\u001b[0m\u001b[0;34m\u001b[0m\u001b[0;34m\u001b[0m\u001b[0m\n\u001b[1;32m   1287\u001b[0m             \u001b[0msample_weight\u001b[0m\u001b[0;34m=\u001b[0m\u001b[0msample_weight\u001b[0m\u001b[0;34m,\u001b[0m\u001b[0;34m\u001b[0m\u001b[0;34m\u001b[0m\u001b[0m\n\u001b[0;32m-> 1288\u001b[0;31m             batch_size=batch_size)\n\u001b[0m\u001b[1;32m   1289\u001b[0m         \u001b[0;31m# Prepare inputs, delegate logic to `test_loop`.\u001b[0m\u001b[0;34m\u001b[0m\u001b[0;34m\u001b[0m\u001b[0;34m\u001b[0m\u001b[0m\n\u001b[1;32m   1290\u001b[0m         \u001b[0;32mif\u001b[0m \u001b[0mself\u001b[0m\u001b[0;34m.\u001b[0m\u001b[0m_uses_dynamic_learning_phase\u001b[0m\u001b[0;34m(\u001b[0m\u001b[0;34m)\u001b[0m\u001b[0;34m:\u001b[0m\u001b[0;34m\u001b[0m\u001b[0;34m\u001b[0m\u001b[0m\n",
            "\u001b[0;32m/usr/local/lib/python3.6/dist-packages/keras/engine/training.py\u001b[0m in \u001b[0;36m_standardize_user_data\u001b[0;34m(self, x, y, sample_weight, class_weight, check_array_lengths, batch_size)\u001b[0m\n\u001b[1;32m    755\u001b[0m             \u001b[0mfeed_input_shapes\u001b[0m\u001b[0;34m,\u001b[0m\u001b[0;34m\u001b[0m\u001b[0;34m\u001b[0m\u001b[0m\n\u001b[1;32m    756\u001b[0m             \u001b[0mcheck_batch_axis\u001b[0m\u001b[0;34m=\u001b[0m\u001b[0;32mFalse\u001b[0m\u001b[0;34m,\u001b[0m  \u001b[0;31m# Don't enforce the batch size.\u001b[0m\u001b[0;34m\u001b[0m\u001b[0;34m\u001b[0m\u001b[0m\n\u001b[0;32m--> 757\u001b[0;31m             exception_prefix='input')\n\u001b[0m\u001b[1;32m    758\u001b[0m \u001b[0;34m\u001b[0m\u001b[0m\n\u001b[1;32m    759\u001b[0m         \u001b[0;32mif\u001b[0m \u001b[0my\u001b[0m \u001b[0;32mis\u001b[0m \u001b[0;32mnot\u001b[0m \u001b[0;32mNone\u001b[0m\u001b[0;34m:\u001b[0m\u001b[0;34m\u001b[0m\u001b[0;34m\u001b[0m\u001b[0m\n",
            "\u001b[0;32m/usr/local/lib/python3.6/dist-packages/keras/engine/training_utils.py\u001b[0m in \u001b[0;36mstandardize_input_data\u001b[0;34m(data, names, shapes, check_batch_axis, exception_prefix)\u001b[0m\n\u001b[1;32m    129\u001b[0m                         \u001b[0;34m': expected '\u001b[0m \u001b[0;34m+\u001b[0m \u001b[0mnames\u001b[0m\u001b[0;34m[\u001b[0m\u001b[0mi\u001b[0m\u001b[0;34m]\u001b[0m \u001b[0;34m+\u001b[0m \u001b[0;34m' to have '\u001b[0m \u001b[0;34m+\u001b[0m\u001b[0;34m\u001b[0m\u001b[0;34m\u001b[0m\u001b[0m\n\u001b[1;32m    130\u001b[0m                         \u001b[0mstr\u001b[0m\u001b[0;34m(\u001b[0m\u001b[0mlen\u001b[0m\u001b[0;34m(\u001b[0m\u001b[0mshape\u001b[0m\u001b[0;34m)\u001b[0m\u001b[0;34m)\u001b[0m \u001b[0;34m+\u001b[0m \u001b[0;34m' dimensions, but got array '\u001b[0m\u001b[0;34m\u001b[0m\u001b[0;34m\u001b[0m\u001b[0m\n\u001b[0;32m--> 131\u001b[0;31m                         'with shape ' + str(data_shape))\n\u001b[0m\u001b[1;32m    132\u001b[0m                 \u001b[0;32mif\u001b[0m \u001b[0;32mnot\u001b[0m \u001b[0mcheck_batch_axis\u001b[0m\u001b[0;34m:\u001b[0m\u001b[0;34m\u001b[0m\u001b[0;34m\u001b[0m\u001b[0m\n\u001b[1;32m    133\u001b[0m                     \u001b[0mdata_shape\u001b[0m \u001b[0;34m=\u001b[0m \u001b[0mdata_shape\u001b[0m\u001b[0;34m[\u001b[0m\u001b[0;36m1\u001b[0m\u001b[0;34m:\u001b[0m\u001b[0;34m]\u001b[0m\u001b[0;34m\u001b[0m\u001b[0;34m\u001b[0m\u001b[0m\n",
            "\u001b[0;31mValueError\u001b[0m: Error when checking input: expected lstm_6_input to have 3 dimensions, but got array with shape (182, 111)"
          ]
        }
      ]
    }
  ]
}